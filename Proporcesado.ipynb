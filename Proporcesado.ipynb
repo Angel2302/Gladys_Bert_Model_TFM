{
 "cells": [
  {
   "cell_type": "markdown",
   "metadata": {},
   "source": [
    "# Preparación de datos para revisión y categorización"
   ]
  },
  {
   "cell_type": "markdown",
   "metadata": {},
   "source": [
    "## Recepción y validación de distribución inicial"
   ]
  },
  {
   "cell_type": "code",
   "execution_count": 3,
   "metadata": {},
   "outputs": [],
   "source": [
    "import pandas as pd\n",
    "from sklearn.model_selection import train_test_split\n",
    "import matplotlib.pyplot as plt\n",
    "import openpyxl\n",
    "import numpy as np"
   ]
  },
  {
   "cell_type": "code",
   "execution_count": 4,
   "metadata": {},
   "outputs": [],
   "source": [
    "data = pd.read_excel('DATA_TFM.xlsx')"
   ]
  },
  {
   "cell_type": "code",
   "execution_count": 5,
   "metadata": {},
   "outputs": [
    {
     "data": {
      "text/plain": [
       "194878"
      ]
     },
     "execution_count": 5,
     "metadata": {},
     "output_type": "execute_result"
    }
   ],
   "source": [
    "len(data)"
   ]
  },
  {
   "cell_type": "code",
   "execution_count": 6,
   "metadata": {},
   "outputs": [
    {
     "data": {
      "text/html": [
       "<div>\n",
       "<style scoped>\n",
       "    .dataframe tbody tr th:only-of-type {\n",
       "        vertical-align: middle;\n",
       "    }\n",
       "\n",
       "    .dataframe tbody tr th {\n",
       "        vertical-align: top;\n",
       "    }\n",
       "\n",
       "    .dataframe thead th {\n",
       "        text-align: right;\n",
       "    }\n",
       "</style>\n",
       "<table border=\"1\" class=\"dataframe\">\n",
       "  <thead>\n",
       "    <tr style=\"text-align: right;\">\n",
       "      <th></th>\n",
       "      <th>UNIDAD</th>\n",
       "      <th>FACULTAD</th>\n",
       "      <th>PROGRAMA</th>\n",
       "      <th>MATERIA</th>\n",
       "      <th>PREGUNTA</th>\n",
       "      <th>RESPUESTA ABIERTA</th>\n",
       "      <th>ANIO</th>\n",
       "    </tr>\n",
       "  </thead>\n",
       "  <tbody>\n",
       "    <tr>\n",
       "      <th>0</th>\n",
       "      <td>UNIDAD REGIONAL, SECCIONAL GIRARDOT</td>\n",
       "      <td>FACULTAD DE CIENCIAS DE LA SALUD</td>\n",
       "      <td>ENFERMERIA 2009</td>\n",
       "      <td>PROFUNDIZACION I</td>\n",
       "      <td>¿Qué aspectos positivos destaca el profesor?</td>\n",
       "      <td>La docente tiene un amplio conocimiento en el ...</td>\n",
       "      <td>2024 - 1</td>\n",
       "    </tr>\n",
       "    <tr>\n",
       "      <th>1</th>\n",
       "      <td>UNIDAD REGIONAL, SECCIONAL GIRARDOT</td>\n",
       "      <td>FACULTAD DE CIENCIAS DE LA SALUD</td>\n",
       "      <td>ENFERMERIA 2009</td>\n",
       "      <td>PROFUNDIZACION I</td>\n",
       "      <td>¿En cuales aspectos considera que debería mejo...</td>\n",
       "      <td>en concretar tiempos de revision documental.</td>\n",
       "      <td>2024 - 1</td>\n",
       "    </tr>\n",
       "    <tr>\n",
       "      <th>2</th>\n",
       "      <td>UNIDAD REGIONAL, SECCIONAL GIRARDOT</td>\n",
       "      <td>FACULTAD DE CIENCIAS DE LA SALUD</td>\n",
       "      <td>ENFERMERIA 2009</td>\n",
       "      <td>PROFUNDIZACION I</td>\n",
       "      <td>¿En cuales aspectos considera que debería mejo...</td>\n",
       "      <td>Comunicacion</td>\n",
       "      <td>2024 - 1</td>\n",
       "    </tr>\n",
       "    <tr>\n",
       "      <th>3</th>\n",
       "      <td>UNIDAD REGIONAL, SECCIONAL GIRARDOT</td>\n",
       "      <td>FACULTAD DE CIENCIAS DE LA SALUD</td>\n",
       "      <td>ENFERMERIA 2009</td>\n",
       "      <td>PROFUNDIZACION I</td>\n",
       "      <td>¿En cuales aspectos considera que debería mejo...</td>\n",
       "      <td>Prestar mas atencion a sus estudiantes cuando ...</td>\n",
       "      <td>2024 - 1</td>\n",
       "    </tr>\n",
       "    <tr>\n",
       "      <th>4</th>\n",
       "      <td>UNIDAD REGIONAL, SECCIONAL GIRARDOT</td>\n",
       "      <td>FACULTAD DE CIENCIAS DE LA SALUD</td>\n",
       "      <td>ENFERMERIA 2009</td>\n",
       "      <td>PROFUNDIZACION I</td>\n",
       "      <td>¿Qué aspectos positivos destaca el profesor?</td>\n",
       "      <td>Responsable y comprometida con la ensenanza</td>\n",
       "      <td>2024 - 1</td>\n",
       "    </tr>\n",
       "    <tr>\n",
       "      <th>...</th>\n",
       "      <td>...</td>\n",
       "      <td>...</td>\n",
       "      <td>...</td>\n",
       "      <td>...</td>\n",
       "      <td>...</td>\n",
       "      <td>...</td>\n",
       "      <td>...</td>\n",
       "    </tr>\n",
       "    <tr>\n",
       "      <th>194873</th>\n",
       "      <td>UNIDAD REGIONAL, EXTENSIÓN FACATATIVÁ</td>\n",
       "      <td>FACULTAD DE CIENCIAS AGROPECUARIAS</td>\n",
       "      <td>INGENIERIA AGRONOMICA 2020 - EXT. FACATATIVA</td>\n",
       "      <td>INTRODUCCION A LAS CIENCIAS AGRARIAS</td>\n",
       "      <td>¿Qué aspectos positivos destaca el profesor?</td>\n",
       "      <td>Sabe mucho del tema</td>\n",
       "      <td>2024 - 2</td>\n",
       "    </tr>\n",
       "    <tr>\n",
       "      <th>194874</th>\n",
       "      <td>UNIDAD REGIONAL, EXTENSIÓN FACATATIVÁ</td>\n",
       "      <td>FACULTAD DE CIENCIAS AGROPECUARIAS</td>\n",
       "      <td>INGENIERIA AGRONOMICA 2020 - EXT. FACATATIVA</td>\n",
       "      <td>PRODUCCION DE CULTIVOS</td>\n",
       "      <td>¿Qué aspectos positivos destaca el profesor?</td>\n",
       "      <td>Sin opinion</td>\n",
       "      <td>2024 - 1</td>\n",
       "    </tr>\n",
       "    <tr>\n",
       "      <th>194875</th>\n",
       "      <td>UNIDAD REGIONAL, EXTENSIÓN FACATATIVÁ</td>\n",
       "      <td>FACULTAD DE CIENCIAS AGROPECUARIAS</td>\n",
       "      <td>INGENIERIA AGRONOMICA 2020 - EXT. FACATATIVA</td>\n",
       "      <td>PRODUCCION DE CULTIVOS</td>\n",
       "      <td>¿En cuales aspectos considera que debería mejo...</td>\n",
       "      <td>Ninguno</td>\n",
       "      <td>2024 - 1</td>\n",
       "    </tr>\n",
       "    <tr>\n",
       "      <th>194876</th>\n",
       "      <td>UNIDAD REGIONAL, EXTENSIÓN FACATATIVÁ</td>\n",
       "      <td>FACULTAD DE CIENCIAS AGROPECUARIAS</td>\n",
       "      <td>INGENIERIA AGRONOMICA 2020 - EXT. FACATATIVA</td>\n",
       "      <td>PRODUCCION DE CULTIVOS</td>\n",
       "      <td>¿Qué aspectos positivos destaca el profesor?</td>\n",
       "      <td>.</td>\n",
       "      <td>2024 - 1</td>\n",
       "    </tr>\n",
       "    <tr>\n",
       "      <th>194877</th>\n",
       "      <td>UNIDAD REGIONAL, EXTENSIÓN FACATATIVÁ</td>\n",
       "      <td>FACULTAD DE CIENCIAS AGROPECUARIAS</td>\n",
       "      <td>INGENIERIA AGRONOMICA 2020 - EXT. FACATATIVA</td>\n",
       "      <td>MIPE</td>\n",
       "      <td>¿Qué aspectos positivos destaca el profesor?</td>\n",
       "      <td>Excelente persona excelente profesor</td>\n",
       "      <td>2024 - 1</td>\n",
       "    </tr>\n",
       "  </tbody>\n",
       "</table>\n",
       "<p>191119 rows × 7 columns</p>\n",
       "</div>"
      ],
      "text/plain": [
       "                                       UNIDAD  \\\n",
       "0         UNIDAD REGIONAL, SECCIONAL GIRARDOT   \n",
       "1         UNIDAD REGIONAL, SECCIONAL GIRARDOT   \n",
       "2         UNIDAD REGIONAL, SECCIONAL GIRARDOT   \n",
       "3         UNIDAD REGIONAL, SECCIONAL GIRARDOT   \n",
       "4         UNIDAD REGIONAL, SECCIONAL GIRARDOT   \n",
       "...                                       ...   \n",
       "194873  UNIDAD REGIONAL, EXTENSIÓN FACATATIVÁ   \n",
       "194874  UNIDAD REGIONAL, EXTENSIÓN FACATATIVÁ   \n",
       "194875  UNIDAD REGIONAL, EXTENSIÓN FACATATIVÁ   \n",
       "194876  UNIDAD REGIONAL, EXTENSIÓN FACATATIVÁ   \n",
       "194877  UNIDAD REGIONAL, EXTENSIÓN FACATATIVÁ   \n",
       "\n",
       "                                  FACULTAD  \\\n",
       "0         FACULTAD DE CIENCIAS DE LA SALUD   \n",
       "1         FACULTAD DE CIENCIAS DE LA SALUD   \n",
       "2         FACULTAD DE CIENCIAS DE LA SALUD   \n",
       "3         FACULTAD DE CIENCIAS DE LA SALUD   \n",
       "4         FACULTAD DE CIENCIAS DE LA SALUD   \n",
       "...                                    ...   \n",
       "194873  FACULTAD DE CIENCIAS AGROPECUARIAS   \n",
       "194874  FACULTAD DE CIENCIAS AGROPECUARIAS   \n",
       "194875  FACULTAD DE CIENCIAS AGROPECUARIAS   \n",
       "194876  FACULTAD DE CIENCIAS AGROPECUARIAS   \n",
       "194877  FACULTAD DE CIENCIAS AGROPECUARIAS   \n",
       "\n",
       "                                            PROGRAMA  \\\n",
       "0                                    ENFERMERIA 2009   \n",
       "1                                    ENFERMERIA 2009   \n",
       "2                                    ENFERMERIA 2009   \n",
       "3                                    ENFERMERIA 2009   \n",
       "4                                    ENFERMERIA 2009   \n",
       "...                                              ...   \n",
       "194873  INGENIERIA AGRONOMICA 2020 - EXT. FACATATIVA   \n",
       "194874  INGENIERIA AGRONOMICA 2020 - EXT. FACATATIVA   \n",
       "194875  INGENIERIA AGRONOMICA 2020 - EXT. FACATATIVA   \n",
       "194876  INGENIERIA AGRONOMICA 2020 - EXT. FACATATIVA   \n",
       "194877  INGENIERIA AGRONOMICA 2020 - EXT. FACATATIVA   \n",
       "\n",
       "                                     MATERIA  \\\n",
       "0                           PROFUNDIZACION I   \n",
       "1                           PROFUNDIZACION I   \n",
       "2                           PROFUNDIZACION I   \n",
       "3                           PROFUNDIZACION I   \n",
       "4                           PROFUNDIZACION I   \n",
       "...                                      ...   \n",
       "194873  INTRODUCCION A LAS CIENCIAS AGRARIAS   \n",
       "194874                PRODUCCION DE CULTIVOS   \n",
       "194875                PRODUCCION DE CULTIVOS   \n",
       "194876                PRODUCCION DE CULTIVOS   \n",
       "194877                                  MIPE   \n",
       "\n",
       "                                                 PREGUNTA  \\\n",
       "0            ¿Qué aspectos positivos destaca el profesor?   \n",
       "1       ¿En cuales aspectos considera que debería mejo...   \n",
       "2       ¿En cuales aspectos considera que debería mejo...   \n",
       "3       ¿En cuales aspectos considera que debería mejo...   \n",
       "4            ¿Qué aspectos positivos destaca el profesor?   \n",
       "...                                                   ...   \n",
       "194873       ¿Qué aspectos positivos destaca el profesor?   \n",
       "194874       ¿Qué aspectos positivos destaca el profesor?   \n",
       "194875  ¿En cuales aspectos considera que debería mejo...   \n",
       "194876       ¿Qué aspectos positivos destaca el profesor?   \n",
       "194877       ¿Qué aspectos positivos destaca el profesor?   \n",
       "\n",
       "                                        RESPUESTA ABIERTA      ANIO  \n",
       "0       La docente tiene un amplio conocimiento en el ...  2024 - 1  \n",
       "1            en concretar tiempos de revision documental.  2024 - 1  \n",
       "2                                            Comunicacion  2024 - 1  \n",
       "3       Prestar mas atencion a sus estudiantes cuando ...  2024 - 1  \n",
       "4             Responsable y comprometida con la ensenanza  2024 - 1  \n",
       "...                                                   ...       ...  \n",
       "194873                               Sabe mucho del tema   2024 - 2  \n",
       "194874                                       Sin opinion   2024 - 1  \n",
       "194875                                           Ninguno   2024 - 1  \n",
       "194876                                                 .   2024 - 1  \n",
       "194877              Excelente persona excelente profesor   2024 - 1  \n",
       "\n",
       "[191119 rows x 7 columns]"
      ]
     },
     "execution_count": 6,
     "metadata": {},
     "output_type": "execute_result"
    }
   ],
   "source": [
    "data = data.drop([\"NOMBRE DOCENTE\", \"RESPUESTA\", \"PEUN_ID\"], axis=1)\n",
    "data = data.dropna(subset=[\"RESPUESTA ABIERTA\"])\n",
    "data"
   ]
  },
  {
   "cell_type": "code",
   "execution_count": 7,
   "metadata": {},
   "outputs": [
    {
     "data": {
      "text/plain": [
       "47"
      ]
     },
     "execution_count": 7,
     "metadata": {},
     "output_type": "execute_result"
    }
   ],
   "source": [
    "len(data[\"PROGRAMA\"].unique())"
   ]
  },
  {
   "cell_type": "code",
   "execution_count": 8,
   "metadata": {},
   "outputs": [
    {
     "data": {
      "text/html": [
       "<div>\n",
       "<style scoped>\n",
       "    .dataframe tbody tr th:only-of-type {\n",
       "        vertical-align: middle;\n",
       "    }\n",
       "\n",
       "    .dataframe tbody tr th {\n",
       "        vertical-align: top;\n",
       "    }\n",
       "\n",
       "    .dataframe thead th {\n",
       "        text-align: right;\n",
       "    }\n",
       "</style>\n",
       "<table border=\"1\" class=\"dataframe\">\n",
       "  <thead>\n",
       "    <tr style=\"text-align: right;\">\n",
       "      <th></th>\n",
       "      <th>UNIDAD</th>\n",
       "      <th>FACULTAD</th>\n",
       "      <th>PROGRAMA</th>\n",
       "      <th>MATERIA</th>\n",
       "      <th>PREGUNTA</th>\n",
       "      <th>RESPUESTA ABIERTA</th>\n",
       "      <th>ANIO</th>\n",
       "    </tr>\n",
       "  </thead>\n",
       "  <tbody>\n",
       "    <tr>\n",
       "      <th>0</th>\n",
       "      <td>GIRARDOT</td>\n",
       "      <td>SALUD</td>\n",
       "      <td>ENFERMERIA 2009</td>\n",
       "      <td>PROFUNDIZACION I</td>\n",
       "      <td>¿Qué aspectos positivos destaca el profesor?</td>\n",
       "      <td>La docente tiene un amplio conocimiento en el ...</td>\n",
       "      <td>2024 - 1</td>\n",
       "    </tr>\n",
       "    <tr>\n",
       "      <th>1</th>\n",
       "      <td>GIRARDOT</td>\n",
       "      <td>SALUD</td>\n",
       "      <td>ENFERMERIA 2009</td>\n",
       "      <td>PROFUNDIZACION I</td>\n",
       "      <td>¿En cuales aspectos considera que debería mejo...</td>\n",
       "      <td>en concretar tiempos de revision documental.</td>\n",
       "      <td>2024 - 1</td>\n",
       "    </tr>\n",
       "    <tr>\n",
       "      <th>2</th>\n",
       "      <td>GIRARDOT</td>\n",
       "      <td>SALUD</td>\n",
       "      <td>ENFERMERIA 2009</td>\n",
       "      <td>PROFUNDIZACION I</td>\n",
       "      <td>¿En cuales aspectos considera que debería mejo...</td>\n",
       "      <td>Comunicacion</td>\n",
       "      <td>2024 - 1</td>\n",
       "    </tr>\n",
       "    <tr>\n",
       "      <th>3</th>\n",
       "      <td>GIRARDOT</td>\n",
       "      <td>SALUD</td>\n",
       "      <td>ENFERMERIA 2009</td>\n",
       "      <td>PROFUNDIZACION I</td>\n",
       "      <td>¿En cuales aspectos considera que debería mejo...</td>\n",
       "      <td>Prestar mas atencion a sus estudiantes cuando ...</td>\n",
       "      <td>2024 - 1</td>\n",
       "    </tr>\n",
       "    <tr>\n",
       "      <th>4</th>\n",
       "      <td>GIRARDOT</td>\n",
       "      <td>SALUD</td>\n",
       "      <td>ENFERMERIA 2009</td>\n",
       "      <td>PROFUNDIZACION I</td>\n",
       "      <td>¿Qué aspectos positivos destaca el profesor?</td>\n",
       "      <td>Responsable y comprometida con la ensenanza</td>\n",
       "      <td>2024 - 1</td>\n",
       "    </tr>\n",
       "    <tr>\n",
       "      <th>...</th>\n",
       "      <td>...</td>\n",
       "      <td>...</td>\n",
       "      <td>...</td>\n",
       "      <td>...</td>\n",
       "      <td>...</td>\n",
       "      <td>...</td>\n",
       "      <td>...</td>\n",
       "    </tr>\n",
       "    <tr>\n",
       "      <th>194873</th>\n",
       "      <td>FACATATIVA</td>\n",
       "      <td>AGROPECUARIAS</td>\n",
       "      <td>INGENIERIA AGRONOMICA 2020 - EXT. FACATATIVA</td>\n",
       "      <td>INTRODUCCION A LAS CIENCIAS AGRARIAS</td>\n",
       "      <td>¿Qué aspectos positivos destaca el profesor?</td>\n",
       "      <td>Sabe mucho del tema</td>\n",
       "      <td>2024 - 2</td>\n",
       "    </tr>\n",
       "    <tr>\n",
       "      <th>194874</th>\n",
       "      <td>FACATATIVA</td>\n",
       "      <td>AGROPECUARIAS</td>\n",
       "      <td>INGENIERIA AGRONOMICA 2020 - EXT. FACATATIVA</td>\n",
       "      <td>PRODUCCION DE CULTIVOS</td>\n",
       "      <td>¿Qué aspectos positivos destaca el profesor?</td>\n",
       "      <td>Sin opinion</td>\n",
       "      <td>2024 - 1</td>\n",
       "    </tr>\n",
       "    <tr>\n",
       "      <th>194875</th>\n",
       "      <td>FACATATIVA</td>\n",
       "      <td>AGROPECUARIAS</td>\n",
       "      <td>INGENIERIA AGRONOMICA 2020 - EXT. FACATATIVA</td>\n",
       "      <td>PRODUCCION DE CULTIVOS</td>\n",
       "      <td>¿En cuales aspectos considera que debería mejo...</td>\n",
       "      <td>Ninguno</td>\n",
       "      <td>2024 - 1</td>\n",
       "    </tr>\n",
       "    <tr>\n",
       "      <th>194876</th>\n",
       "      <td>FACATATIVA</td>\n",
       "      <td>AGROPECUARIAS</td>\n",
       "      <td>INGENIERIA AGRONOMICA 2020 - EXT. FACATATIVA</td>\n",
       "      <td>PRODUCCION DE CULTIVOS</td>\n",
       "      <td>¿Qué aspectos positivos destaca el profesor?</td>\n",
       "      <td>.</td>\n",
       "      <td>2024 - 1</td>\n",
       "    </tr>\n",
       "    <tr>\n",
       "      <th>194877</th>\n",
       "      <td>FACATATIVA</td>\n",
       "      <td>AGROPECUARIAS</td>\n",
       "      <td>INGENIERIA AGRONOMICA 2020 - EXT. FACATATIVA</td>\n",
       "      <td>MIPE</td>\n",
       "      <td>¿Qué aspectos positivos destaca el profesor?</td>\n",
       "      <td>Excelente persona excelente profesor</td>\n",
       "      <td>2024 - 1</td>\n",
       "    </tr>\n",
       "  </tbody>\n",
       "</table>\n",
       "<p>191119 rows × 7 columns</p>\n",
       "</div>"
      ],
      "text/plain": [
       "            UNIDAD       FACULTAD  \\\n",
       "0         GIRARDOT          SALUD   \n",
       "1         GIRARDOT          SALUD   \n",
       "2         GIRARDOT          SALUD   \n",
       "3         GIRARDOT          SALUD   \n",
       "4         GIRARDOT          SALUD   \n",
       "...            ...            ...   \n",
       "194873  FACATATIVA  AGROPECUARIAS   \n",
       "194874  FACATATIVA  AGROPECUARIAS   \n",
       "194875  FACATATIVA  AGROPECUARIAS   \n",
       "194876  FACATATIVA  AGROPECUARIAS   \n",
       "194877  FACATATIVA  AGROPECUARIAS   \n",
       "\n",
       "                                            PROGRAMA  \\\n",
       "0                                    ENFERMERIA 2009   \n",
       "1                                    ENFERMERIA 2009   \n",
       "2                                    ENFERMERIA 2009   \n",
       "3                                    ENFERMERIA 2009   \n",
       "4                                    ENFERMERIA 2009   \n",
       "...                                              ...   \n",
       "194873  INGENIERIA AGRONOMICA 2020 - EXT. FACATATIVA   \n",
       "194874  INGENIERIA AGRONOMICA 2020 - EXT. FACATATIVA   \n",
       "194875  INGENIERIA AGRONOMICA 2020 - EXT. FACATATIVA   \n",
       "194876  INGENIERIA AGRONOMICA 2020 - EXT. FACATATIVA   \n",
       "194877  INGENIERIA AGRONOMICA 2020 - EXT. FACATATIVA   \n",
       "\n",
       "                                     MATERIA  \\\n",
       "0                           PROFUNDIZACION I   \n",
       "1                           PROFUNDIZACION I   \n",
       "2                           PROFUNDIZACION I   \n",
       "3                           PROFUNDIZACION I   \n",
       "4                           PROFUNDIZACION I   \n",
       "...                                      ...   \n",
       "194873  INTRODUCCION A LAS CIENCIAS AGRARIAS   \n",
       "194874                PRODUCCION DE CULTIVOS   \n",
       "194875                PRODUCCION DE CULTIVOS   \n",
       "194876                PRODUCCION DE CULTIVOS   \n",
       "194877                                  MIPE   \n",
       "\n",
       "                                                 PREGUNTA  \\\n",
       "0            ¿Qué aspectos positivos destaca el profesor?   \n",
       "1       ¿En cuales aspectos considera que debería mejo...   \n",
       "2       ¿En cuales aspectos considera que debería mejo...   \n",
       "3       ¿En cuales aspectos considera que debería mejo...   \n",
       "4            ¿Qué aspectos positivos destaca el profesor?   \n",
       "...                                                   ...   \n",
       "194873       ¿Qué aspectos positivos destaca el profesor?   \n",
       "194874       ¿Qué aspectos positivos destaca el profesor?   \n",
       "194875  ¿En cuales aspectos considera que debería mejo...   \n",
       "194876       ¿Qué aspectos positivos destaca el profesor?   \n",
       "194877       ¿Qué aspectos positivos destaca el profesor?   \n",
       "\n",
       "                                        RESPUESTA ABIERTA      ANIO  \n",
       "0       La docente tiene un amplio conocimiento en el ...  2024 - 1  \n",
       "1            en concretar tiempos de revision documental.  2024 - 1  \n",
       "2                                            Comunicacion  2024 - 1  \n",
       "3       Prestar mas atencion a sus estudiantes cuando ...  2024 - 1  \n",
       "4             Responsable y comprometida con la ensenanza  2024 - 1  \n",
       "...                                                   ...       ...  \n",
       "194873                               Sabe mucho del tema   2024 - 2  \n",
       "194874                                       Sin opinion   2024 - 1  \n",
       "194875                                           Ninguno   2024 - 1  \n",
       "194876                                                 .   2024 - 1  \n",
       "194877              Excelente persona excelente profesor   2024 - 1  \n",
       "\n",
       "[191119 rows x 7 columns]"
      ]
     },
     "execution_count": 8,
     "metadata": {},
     "output_type": "execute_result"
    }
   ],
   "source": [
    "unidades = {'UNIDAD REGIONAL, SECCIONAL GIRARDOT':'GIRARDOT',\n",
    "            'UNIDAD REGIONAL, SEDE FUSAGASUGÁ':'FUSAGASUGA',\n",
    "            'UNIDAD REGIONAL, SECCIONAL UBATÉ':'UBATE',\n",
    "            'UNIDAD REGIONAL, EXTENSIÓN FACATATIVÁ':'FACATATIVA',\n",
    "            'UNIDAD REGIONAL, EXTENSIÓN CHÍA':'CHIA',\n",
    "            'UNIDAD REGIONAL, EXTENSIÓN SOACHA':'SOACHA',\n",
    "            'UNIDAD REGIONAL, EXTENSIÓN ZIPAQUIRÁ':'ZIPAQUIRA'}\n",
    "\n",
    "facultades = {\n",
    "    'FACULTAD DE CIENCIAS DE LA SALUD':'SALUD',\n",
    "    'FACULTAD DE CIENCIAS ADMINISTRATIVAS ECONÓMICAS Y CONTABLES':'ADMINISTRACION',\n",
    "    'FACULTAD DE EDUCACIÓN':'EDUCACION',\n",
    "    'FACULTAD DE CIENCIAS AGROPECUARIAS':'AGROPECUARIAS',\n",
    "    'TRASVERSALES':'TRASVERSALES',\n",
    "    'FACULTAD DE INGENIERÍA':'INGENIERIA',\n",
    "    'FACULTAD DE CIENCIAS SOCIALES, HUMANIDADES Y CIENCIAS POLITICAS':'SOCIALES',\n",
    "    'FACULTAD DE CIENCIAS DEL DEPORTE Y EDUCACIÓN FÍSICA':'EDUCACION FISICA',\n",
    "}\n",
    "\n",
    "data[\"UNIDAD\"] = data[\"UNIDAD\"].map(unidades)\n",
    "data[\"FACULTAD\"] = data[\"FACULTAD\"].map(facultades)\n",
    "data"
   ]
  },
  {
   "cell_type": "code",
   "execution_count": 9,
   "metadata": {},
   "outputs": [
    {
     "data": {
      "text/plain": [
       "<Axes: ylabel='Proporción por año'>"
      ]
     },
     "execution_count": 9,
     "metadata": {},
     "output_type": "execute_result"
    },
    {
     "data": {
      "image/png": "[encoded data removed]",
      "text/plain": [
       "<Figure size 640x480 with 1 Axes>"
      ]
     },
     "metadata": {},
     "output_type": "display_data"
    }
   ],
   "source": [
    "data[\"ANIO\"].value_counts(normalize=True).plot(kind='pie', ylabel='Proporción por año', autopct = '%.2f')"
   ]
  },
  {
   "cell_type": "code",
   "execution_count": 10,
   "metadata": {},
   "outputs": [
    {
     "data": {
      "text/plain": [
       "<Axes: ylabel='proporción por facultad'>"
      ]
     },
     "execution_count": 10,
     "metadata": {},
     "output_type": "execute_result"
    },
    {
     "data": {
      "image/png": "[encoded data removed]",
      "text/plain": [
       "<Figure size 640x480 with 1 Axes>"
      ]
     },
     "metadata": {},
     "output_type": "display_data"
    }
   ],
   "source": [
    "data[\"FACULTAD\"].value_counts(normalize=True).plot(kind='pie', ylabel = \"proporción por facultad\", autopct = '%.2f')"
   ]
  },
  {
   "cell_type": "code",
   "execution_count": 11,
   "metadata": {},
   "outputs": [
    {
     "data": {
      "text/plain": [
       "<Axes: ylabel='proportion'>"
      ]
     },
     "execution_count": 11,
     "metadata": {},
     "output_type": "execute_result"
    },
    {
     "data": {
      "image/png": "[encoded data removed]",
      "text/plain": [
       "<Figure size 640x480 with 1 Axes>"
      ]
     },
     "metadata": {},
     "output_type": "display_data"
    }
   ],
   "source": [
    "data[\"UNIDAD\"].value_counts(normalize=True).plot(kind= 'pie', autopct = '%.2f')"
   ]
  },
  {
   "cell_type": "code",
   "execution_count": 12,
   "metadata": {},
   "outputs": [
    {
     "data": {
      "text/plain": [
       "<Axes: ylabel='proportion'>"
      ]
     },
     "execution_count": 12,
     "metadata": {},
     "output_type": "execute_result"
    },
    {
     "data": {
      "image/png": "[encoded data removed]",
      "text/plain": [
       "<Figure size 640x480 with 1 Axes>"
      ]
     },
     "metadata": {},
     "output_type": "display_data"
    }
   ],
   "source": [
    "data[\"PREGUNTA\"].value_counts(normalize=True).plot(kind= 'pie', autopct = '%.2f')"
   ]
  },
  {
   "cell_type": "markdown",
   "metadata": {},
   "source": [
    "# Normalización de texto, estandarizado y representación"
   ]
  },
  {
   "cell_type": "code",
   "execution_count": 13,
   "metadata": {},
   "outputs": [],
   "source": [
    "import re\n",
    "from spellchecker import SpellChecker"
   ]
  },
  {
   "cell_type": "code",
   "execution_count": 14,
   "metadata": {},
   "outputs": [],
   "source": [
    "def corregir_ortografia(texto, lenguaje = 'es'):\n",
    "    spell = SpellChecker(language=lenguaje)\n",
    "    palabras = re.findall(r'\\w+', texto)\n",
    "    palabras_corregidas = []\n",
    "    for palabra in palabras:\n",
    "        correccion = spell.correction(palabra)\n",
    "        if correccion:\n",
    "            palabras_corregidas.append(correccion)\n",
    "        else:\n",
    "            palabras_corregidas.append(palabra)\n",
    "    return ' '.join(palabras_corregidas)"
   ]
  },
  {
   "cell_type": "code",
   "execution_count": 15,
   "metadata": {},
   "outputs": [],
   "source": [
    "data[\"RESPUESTA ABIERTA\"] = data[\"RESPUESTA ABIERTA\"].apply(lambda x:  corregir_ortografia(x))"
   ]
  },
  {
   "cell_type": "code",
   "execution_count": 16,
   "metadata": {},
   "outputs": [],
   "source": [
    "data_clasificatoria = pd.DataFrame({'Respuesta':data[\"RESPUESTA ABIERTA\"], 'Pregunta':data[\"PREGUNTA\"]})"
   ]
  },
  {
   "cell_type": "code",
   "execution_count": 17,
   "metadata": {},
   "outputs": [],
   "source": [
    "data_clasificatoria.to_excel('Data_Limpia_Reseñas_tfm.xlsx', engine ='openpyxl')"
   ]
  },
  {
   "cell_type": "code",
   "execution_count": 18,
   "metadata": {},
   "outputs": [],
   "source": [
    "data[\"RESPUESTA ABIERTA\"] = data[\"RESPUESTA ABIERTA\"].apply(lambda x : x.lower())"
   ]
  },
  {
   "cell_type": "code",
   "execution_count": 19,
   "metadata": {},
   "outputs": [],
   "source": [
    "data[\"RESPUESTA ABIERTA\"] = data[\"RESPUESTA ABIERTA\"].apply(lambda x: re.sub(r'[^\\w\\s]', '', x))"
   ]
  },
  {
   "cell_type": "code",
   "execution_count": 20,
   "metadata": {},
   "outputs": [],
   "source": [
    "data[\"RESPUESTA ABIERTA\"] = data[\"RESPUESTA ABIERTA\"].apply(lambda x: re.sub(r'http\\S+|www\\S+|https\\S+', '', x))"
   ]
  },
  {
   "cell_type": "code",
   "execution_count": 21,
   "metadata": {},
   "outputs": [],
   "source": [
    "data[\"RESPUESTA ABIERTA\"] = data[\"RESPUESTA ABIERTA\"].str.strip().replace('', np.nan)\n",
    "data[\"RESPUESTA ABIERTA\"] = data[\"RESPUESTA ABIERTA\"].dropna()"
   ]
  },
  {
   "cell_type": "code",
   "execution_count": 22,
   "metadata": {},
   "outputs": [],
   "source": [
    "data_limpia = data.dropna()"
   ]
  },
  {
   "cell_type": "code",
   "execution_count": 23,
   "metadata": {},
   "outputs": [
    {
     "data": {
      "text/plain": [
       "177740"
      ]
     },
     "execution_count": 23,
     "metadata": {},
     "output_type": "execute_result"
    }
   ],
   "source": [
    "len(data_limpia)"
   ]
  },
  {
   "cell_type": "code",
   "execution_count": 24,
   "metadata": {},
   "outputs": [
    {
     "data": {
      "text/html": [
       "<div>\n",
       "<style scoped>\n",
       "    .dataframe tbody tr th:only-of-type {\n",
       "        vertical-align: middle;\n",
       "    }\n",
       "\n",
       "    .dataframe tbody tr th {\n",
       "        vertical-align: top;\n",
       "    }\n",
       "\n",
       "    .dataframe thead th {\n",
       "        text-align: right;\n",
       "    }\n",
       "</style>\n",
       "<table border=\"1\" class=\"dataframe\">\n",
       "  <thead>\n",
       "    <tr style=\"text-align: right;\">\n",
       "      <th></th>\n",
       "      <th>UNIDAD</th>\n",
       "      <th>FACULTAD</th>\n",
       "      <th>PROGRAMA</th>\n",
       "      <th>MATERIA</th>\n",
       "      <th>PREGUNTA</th>\n",
       "      <th>RESPUESTA ABIERTA</th>\n",
       "      <th>ANIO</th>\n",
       "    </tr>\n",
       "  </thead>\n",
       "  <tbody>\n",
       "    <tr>\n",
       "      <th>0</th>\n",
       "      <td>GIRARDOT</td>\n",
       "      <td>SALUD</td>\n",
       "      <td>ENFERMERIA 2009</td>\n",
       "      <td>PROFUNDIZACION I</td>\n",
       "      <td>¿Qué aspectos positivos destaca el profesor?</td>\n",
       "      <td>la docente tizne un amplio conocimiento en el ...</td>\n",
       "      <td>2024 - 1</td>\n",
       "    </tr>\n",
       "    <tr>\n",
       "      <th>1</th>\n",
       "      <td>GIRARDOT</td>\n",
       "      <td>SALUD</td>\n",
       "      <td>ENFERMERIA 2009</td>\n",
       "      <td>PROFUNDIZACION I</td>\n",
       "      <td>¿En cuales aspectos considera que debería mejo...</td>\n",
       "      <td>en concretar tiempo de revisión documental</td>\n",
       "      <td>2024 - 1</td>\n",
       "    </tr>\n",
       "    <tr>\n",
       "      <th>2</th>\n",
       "      <td>GIRARDOT</td>\n",
       "      <td>SALUD</td>\n",
       "      <td>ENFERMERIA 2009</td>\n",
       "      <td>PROFUNDIZACION I</td>\n",
       "      <td>¿En cuales aspectos considera que debería mejo...</td>\n",
       "      <td>comunicación</td>\n",
       "      <td>2024 - 1</td>\n",
       "    </tr>\n",
       "    <tr>\n",
       "      <th>3</th>\n",
       "      <td>GIRARDOT</td>\n",
       "      <td>SALUD</td>\n",
       "      <td>ENFERMERIA 2009</td>\n",
       "      <td>PROFUNDIZACION I</td>\n",
       "      <td>¿En cuales aspectos considera que debería mejo...</td>\n",
       "      <td>prestar mas atención a sus estudiante cuando r...</td>\n",
       "      <td>2024 - 1</td>\n",
       "    </tr>\n",
       "    <tr>\n",
       "      <th>4</th>\n",
       "      <td>GIRARDOT</td>\n",
       "      <td>SALUD</td>\n",
       "      <td>ENFERMERIA 2009</td>\n",
       "      <td>PROFUNDIZACION I</td>\n",
       "      <td>¿Qué aspectos positivos destaca el profesor?</td>\n",
       "      <td>responsable y comprometida con la enseñanza</td>\n",
       "      <td>2024 - 1</td>\n",
       "    </tr>\n",
       "    <tr>\n",
       "      <th>...</th>\n",
       "      <td>...</td>\n",
       "      <td>...</td>\n",
       "      <td>...</td>\n",
       "      <td>...</td>\n",
       "      <td>...</td>\n",
       "      <td>...</td>\n",
       "      <td>...</td>\n",
       "    </tr>\n",
       "    <tr>\n",
       "      <th>194872</th>\n",
       "      <td>FACATATIVA</td>\n",
       "      <td>AGROPECUARIAS</td>\n",
       "      <td>INGENIERIA AGRONOMICA 2020 - EXT. FACATATIVA</td>\n",
       "      <td>INTRODUCCION A LAS CIENCIAS AGRARIAS</td>\n",
       "      <td>¿Qué aspectos positivos destaca el profesor?</td>\n",
       "      <td>guía de forma continua el proceso educativo de...</td>\n",
       "      <td>2024 - 2</td>\n",
       "    </tr>\n",
       "    <tr>\n",
       "      <th>194873</th>\n",
       "      <td>FACATATIVA</td>\n",
       "      <td>AGROPECUARIAS</td>\n",
       "      <td>INGENIERIA AGRONOMICA 2020 - EXT. FACATATIVA</td>\n",
       "      <td>INTRODUCCION A LAS CIENCIAS AGRARIAS</td>\n",
       "      <td>¿Qué aspectos positivos destaca el profesor?</td>\n",
       "      <td>saber mucho del tema</td>\n",
       "      <td>2024 - 2</td>\n",
       "    </tr>\n",
       "    <tr>\n",
       "      <th>194874</th>\n",
       "      <td>FACATATIVA</td>\n",
       "      <td>AGROPECUARIAS</td>\n",
       "      <td>INGENIERIA AGRONOMICA 2020 - EXT. FACATATIVA</td>\n",
       "      <td>PRODUCCION DE CULTIVOS</td>\n",
       "      <td>¿Qué aspectos positivos destaca el profesor?</td>\n",
       "      <td>sin opinión</td>\n",
       "      <td>2024 - 1</td>\n",
       "    </tr>\n",
       "    <tr>\n",
       "      <th>194875</th>\n",
       "      <td>FACATATIVA</td>\n",
       "      <td>AGROPECUARIAS</td>\n",
       "      <td>INGENIERIA AGRONOMICA 2020 - EXT. FACATATIVA</td>\n",
       "      <td>PRODUCCION DE CULTIVOS</td>\n",
       "      <td>¿En cuales aspectos considera que debería mejo...</td>\n",
       "      <td>ninguno</td>\n",
       "      <td>2024 - 1</td>\n",
       "    </tr>\n",
       "    <tr>\n",
       "      <th>194877</th>\n",
       "      <td>FACATATIVA</td>\n",
       "      <td>AGROPECUARIAS</td>\n",
       "      <td>INGENIERIA AGRONOMICA 2020 - EXT. FACATATIVA</td>\n",
       "      <td>MIPE</td>\n",
       "      <td>¿Qué aspectos positivos destaca el profesor?</td>\n",
       "      <td>excelente persona excelente profesor</td>\n",
       "      <td>2024 - 1</td>\n",
       "    </tr>\n",
       "  </tbody>\n",
       "</table>\n",
       "<p>177710 rows × 7 columns</p>\n",
       "</div>"
      ],
      "text/plain": [
       "            UNIDAD       FACULTAD  \\\n",
       "0         GIRARDOT          SALUD   \n",
       "1         GIRARDOT          SALUD   \n",
       "2         GIRARDOT          SALUD   \n",
       "3         GIRARDOT          SALUD   \n",
       "4         GIRARDOT          SALUD   \n",
       "...            ...            ...   \n",
       "194872  FACATATIVA  AGROPECUARIAS   \n",
       "194873  FACATATIVA  AGROPECUARIAS   \n",
       "194874  FACATATIVA  AGROPECUARIAS   \n",
       "194875  FACATATIVA  AGROPECUARIAS   \n",
       "194877  FACATATIVA  AGROPECUARIAS   \n",
       "\n",
       "                                            PROGRAMA  \\\n",
       "0                                    ENFERMERIA 2009   \n",
       "1                                    ENFERMERIA 2009   \n",
       "2                                    ENFERMERIA 2009   \n",
       "3                                    ENFERMERIA 2009   \n",
       "4                                    ENFERMERIA 2009   \n",
       "...                                              ...   \n",
       "194872  INGENIERIA AGRONOMICA 2020 - EXT. FACATATIVA   \n",
       "194873  INGENIERIA AGRONOMICA 2020 - EXT. FACATATIVA   \n",
       "194874  INGENIERIA AGRONOMICA 2020 - EXT. FACATATIVA   \n",
       "194875  INGENIERIA AGRONOMICA 2020 - EXT. FACATATIVA   \n",
       "194877  INGENIERIA AGRONOMICA 2020 - EXT. FACATATIVA   \n",
       "\n",
       "                                     MATERIA  \\\n",
       "0                           PROFUNDIZACION I   \n",
       "1                           PROFUNDIZACION I   \n",
       "2                           PROFUNDIZACION I   \n",
       "3                           PROFUNDIZACION I   \n",
       "4                           PROFUNDIZACION I   \n",
       "...                                      ...   \n",
       "194872  INTRODUCCION A LAS CIENCIAS AGRARIAS   \n",
       "194873  INTRODUCCION A LAS CIENCIAS AGRARIAS   \n",
       "194874                PRODUCCION DE CULTIVOS   \n",
       "194875                PRODUCCION DE CULTIVOS   \n",
       "194877                                  MIPE   \n",
       "\n",
       "                                                 PREGUNTA  \\\n",
       "0            ¿Qué aspectos positivos destaca el profesor?   \n",
       "1       ¿En cuales aspectos considera que debería mejo...   \n",
       "2       ¿En cuales aspectos considera que debería mejo...   \n",
       "3       ¿En cuales aspectos considera que debería mejo...   \n",
       "4            ¿Qué aspectos positivos destaca el profesor?   \n",
       "...                                                   ...   \n",
       "194872       ¿Qué aspectos positivos destaca el profesor?   \n",
       "194873       ¿Qué aspectos positivos destaca el profesor?   \n",
       "194874       ¿Qué aspectos positivos destaca el profesor?   \n",
       "194875  ¿En cuales aspectos considera que debería mejo...   \n",
       "194877       ¿Qué aspectos positivos destaca el profesor?   \n",
       "\n",
       "                                        RESPUESTA ABIERTA      ANIO  \n",
       "0       la docente tizne un amplio conocimiento en el ...  2024 - 1  \n",
       "1              en concretar tiempo de revisión documental  2024 - 1  \n",
       "2                                            comunicación  2024 - 1  \n",
       "3       prestar mas atención a sus estudiante cuando r...  2024 - 1  \n",
       "4             responsable y comprometida con la enseñanza  2024 - 1  \n",
       "...                                                   ...       ...  \n",
       "194872  guía de forma continua el proceso educativo de...  2024 - 2  \n",
       "194873                               saber mucho del tema  2024 - 2  \n",
       "194874                                        sin opinión  2024 - 1  \n",
       "194875                                            ninguno  2024 - 1  \n",
       "194877               excelente persona excelente profesor  2024 - 1  \n",
       "\n",
       "[177710 rows x 7 columns]"
      ]
     },
     "execution_count": 24,
     "metadata": {},
     "output_type": "execute_result"
    }
   ],
   "source": [
    "patron = r'^(.)\\1+$'\n",
    "mascara = data_limpia[\"RESPUESTA ABIERTA\"].astype(str).str.match(patron)\n",
    "\n",
    "\n",
    "data_sin_letras_repetidas = data_limpia[~mascara]\n",
    "\n",
    "\n",
    "data_sin_letras_repetidas"
   ]
  },
  {
   "cell_type": "code",
   "execution_count": 25,
   "metadata": {},
   "outputs": [],
   "source": [
    "data_limpia_excel = data_sin_letras_repetidas.to_excel('Data_final_para_merge.xlsx')"
   ]
  },
  {
   "cell_type": "code",
   "execution_count": 26,
   "metadata": {},
   "outputs": [],
   "source": [
    "data_clasificatoria_excel = pd.DataFrame({'Respuesta':data_sin_letras_repetidas[\"RESPUESTA ABIERTA\"], 'Pregunta':data_sin_letras_repetidas[\"PREGUNTA\"]})\n",
    "data_clasificatoria_excel.to_excel('Data_Limpia_Reseñas_tfm_filtrada.xlsx', engine ='openpyxl')"
   ]
  },
  {
   "cell_type": "markdown",
   "metadata": {},
   "source": [
    "# Primera categorización de datos"
   ]
  },
  {
   "cell_type": "code",
   "execution_count": 27,
   "metadata": {},
   "outputs": [
    {
     "name": "stderr",
     "output_type": "stream",
     "text": [
      "d:\\Pruebas IA\\TFM\\.venv\\Lib\\site-packages\\tqdm\\auto.py:21: TqdmWarning: IProgress not found. Please update jupyter and ipywidgets. See https://ipywidgets.readthedocs.io/en/stable/user_install.html\n",
      "  from .autonotebook import tqdm as notebook_tqdm\n"
     ]
    }
   ],
   "source": [
    "from pysentimiento import create_analyzer\n",
    "\n",
    "analyzer = create_analyzer(task='sentiment', lang = 'es')\n",
    "emotion_analyzer = create_analyzer(task='emotion', lang='es')"
   ]
  },
  {
   "cell_type": "code",
   "execution_count": 28,
   "metadata": {},
   "outputs": [
    {
     "data": {
      "text/plain": [
       "'la docente tizne un amplio conocimiento en el abordaje de salud sexual y recreativa'"
      ]
     },
     "execution_count": 28,
     "metadata": {},
     "output_type": "execute_result"
    }
   ],
   "source": [
    "data['RESPUESTA ABIERTA'][0]"
   ]
  },
  {
   "cell_type": "code",
   "execution_count": 29,
   "metadata": {},
   "outputs": [
    {
     "data": {
      "text/plain": [
       "AnalyzerOutput(output=POS, probas={POS: 0.497, NEU: 0.473, NEG: 0.030})"
      ]
     },
     "execution_count": 29,
     "metadata": {},
     "output_type": "execute_result"
    }
   ],
   "source": [
    "analyzer.predict(data['RESPUESTA ABIERTA'][0])"
   ]
  },
  {
   "cell_type": "code",
   "execution_count": 30,
   "metadata": {},
   "outputs": [
    {
     "data": {
      "text/plain": [
       "'joy'"
      ]
     },
     "execution_count": 30,
     "metadata": {},
     "output_type": "execute_result"
    }
   ],
   "source": [
    "emotion_analyzer.predict(data['RESPUESTA ABIERTA'][4]).output"
   ]
  },
  {
   "cell_type": "code",
   "execution_count": 31,
   "metadata": {},
   "outputs": [
    {
     "ename": "TypeError",
     "evalue": "'float' object is not iterable",
     "output_type": "error",
     "traceback": [
      "\u001b[31m---------------------------------------------------------------------------\u001b[39m",
      "\u001b[31mTypeError\u001b[39m                                 Traceback (most recent call last)",
      "\u001b[36mCell\u001b[39m\u001b[36m \u001b[39m\u001b[32mIn[31]\u001b[39m\u001b[32m, line 1\u001b[39m\n\u001b[32m----> \u001b[39m\u001b[32m1\u001b[39m data[\u001b[33m'\u001b[39m\u001b[33mEtiqueta\u001b[39m\u001b[33m'\u001b[39m] = \u001b[43mdata\u001b[49m\u001b[43m[\u001b[49m\u001b[33;43m'\u001b[39;49m\u001b[33;43mRESPUESTA ABIERTA\u001b[39;49m\u001b[33;43m'\u001b[39;49m\u001b[43m]\u001b[49m\u001b[43m.\u001b[49m\u001b[43mapply\u001b[49m\u001b[43m(\u001b[49m\u001b[38;5;28;43;01mlambda\u001b[39;49;00m\u001b[43m \u001b[49m\u001b[43mx\u001b[49m\u001b[43m:\u001b[49m\u001b[43m \u001b[49m\u001b[43manalyzer\u001b[49m\u001b[43m.\u001b[49m\u001b[43mpredict\u001b[49m\u001b[43m(\u001b[49m\u001b[43mx\u001b[49m\u001b[43m)\u001b[49m\u001b[43m.\u001b[49m\u001b[43moutput\u001b[49m\u001b[43m)\u001b[49m\n",
      "\u001b[36mFile \u001b[39m\u001b[32md:\\Pruebas IA\\TFM\\.venv\\Lib\\site-packages\\pandas\\core\\series.py:4924\u001b[39m, in \u001b[36mSeries.apply\u001b[39m\u001b[34m(self, func, convert_dtype, args, by_row, **kwargs)\u001b[39m\n\u001b[32m   4789\u001b[39m \u001b[38;5;28;01mdef\u001b[39;00m\u001b[38;5;250m \u001b[39m\u001b[34mapply\u001b[39m(\n\u001b[32m   4790\u001b[39m     \u001b[38;5;28mself\u001b[39m,\n\u001b[32m   4791\u001b[39m     func: AggFuncType,\n\u001b[32m   (...)\u001b[39m\u001b[32m   4796\u001b[39m     **kwargs,\n\u001b[32m   4797\u001b[39m ) -> DataFrame | Series:\n\u001b[32m   4798\u001b[39m \u001b[38;5;250m    \u001b[39m\u001b[33;03m\"\"\"\u001b[39;00m\n\u001b[32m   4799\u001b[39m \u001b[33;03m    Invoke function on values of Series.\u001b[39;00m\n\u001b[32m   4800\u001b[39m \n\u001b[32m   (...)\u001b[39m\u001b[32m   4915\u001b[39m \u001b[33;03m    dtype: float64\u001b[39;00m\n\u001b[32m   4916\u001b[39m \u001b[33;03m    \"\"\"\u001b[39;00m\n\u001b[32m   4917\u001b[39m     \u001b[38;5;28;01mreturn\u001b[39;00m \u001b[43mSeriesApply\u001b[49m\u001b[43m(\u001b[49m\n\u001b[32m   4918\u001b[39m \u001b[43m        \u001b[49m\u001b[38;5;28;43mself\u001b[39;49m\u001b[43m,\u001b[49m\n\u001b[32m   4919\u001b[39m \u001b[43m        \u001b[49m\u001b[43mfunc\u001b[49m\u001b[43m,\u001b[49m\n\u001b[32m   4920\u001b[39m \u001b[43m        \u001b[49m\u001b[43mconvert_dtype\u001b[49m\u001b[43m=\u001b[49m\u001b[43mconvert_dtype\u001b[49m\u001b[43m,\u001b[49m\n\u001b[32m   4921\u001b[39m \u001b[43m        \u001b[49m\u001b[43mby_row\u001b[49m\u001b[43m=\u001b[49m\u001b[43mby_row\u001b[49m\u001b[43m,\u001b[49m\n\u001b[32m   4922\u001b[39m \u001b[43m        \u001b[49m\u001b[43margs\u001b[49m\u001b[43m=\u001b[49m\u001b[43margs\u001b[49m\u001b[43m,\u001b[49m\n\u001b[32m   4923\u001b[39m \u001b[43m        \u001b[49m\u001b[43mkwargs\u001b[49m\u001b[43m=\u001b[49m\u001b[43mkwargs\u001b[49m\u001b[43m,\u001b[49m\n\u001b[32m-> \u001b[39m\u001b[32m4924\u001b[39m \u001b[43m    \u001b[49m\u001b[43m)\u001b[49m\u001b[43m.\u001b[49m\u001b[43mapply\u001b[49m\u001b[43m(\u001b[49m\u001b[43m)\u001b[49m\n",
      "\u001b[36mFile \u001b[39m\u001b[32md:\\Pruebas IA\\TFM\\.venv\\Lib\\site-packages\\pandas\\core\\apply.py:1427\u001b[39m, in \u001b[36mSeriesApply.apply\u001b[39m\u001b[34m(self)\u001b[39m\n\u001b[32m   1424\u001b[39m     \u001b[38;5;28;01mreturn\u001b[39;00m \u001b[38;5;28mself\u001b[39m.apply_compat()\n\u001b[32m   1426\u001b[39m \u001b[38;5;66;03m# self.func is Callable\u001b[39;00m\n\u001b[32m-> \u001b[39m\u001b[32m1427\u001b[39m \u001b[38;5;28;01mreturn\u001b[39;00m \u001b[38;5;28;43mself\u001b[39;49m\u001b[43m.\u001b[49m\u001b[43mapply_standard\u001b[49m\u001b[43m(\u001b[49m\u001b[43m)\u001b[49m\n",
      "\u001b[36mFile \u001b[39m\u001b[32md:\\Pruebas IA\\TFM\\.venv\\Lib\\site-packages\\pandas\\core\\apply.py:1507\u001b[39m, in \u001b[36mSeriesApply.apply_standard\u001b[39m\u001b[34m(self)\u001b[39m\n\u001b[32m   1501\u001b[39m \u001b[38;5;66;03m# row-wise access\u001b[39;00m\n\u001b[32m   1502\u001b[39m \u001b[38;5;66;03m# apply doesn't have a `na_action` keyword and for backward compat reasons\u001b[39;00m\n\u001b[32m   1503\u001b[39m \u001b[38;5;66;03m# we need to give `na_action=\"ignore\"` for categorical data.\u001b[39;00m\n\u001b[32m   1504\u001b[39m \u001b[38;5;66;03m# TODO: remove the `na_action=\"ignore\"` when that default has been changed in\u001b[39;00m\n\u001b[32m   1505\u001b[39m \u001b[38;5;66;03m#  Categorical (GH51645).\u001b[39;00m\n\u001b[32m   1506\u001b[39m action = \u001b[33m\"\u001b[39m\u001b[33mignore\u001b[39m\u001b[33m\"\u001b[39m \u001b[38;5;28;01mif\u001b[39;00m \u001b[38;5;28misinstance\u001b[39m(obj.dtype, CategoricalDtype) \u001b[38;5;28;01melse\u001b[39;00m \u001b[38;5;28;01mNone\u001b[39;00m\n\u001b[32m-> \u001b[39m\u001b[32m1507\u001b[39m mapped = \u001b[43mobj\u001b[49m\u001b[43m.\u001b[49m\u001b[43m_map_values\u001b[49m\u001b[43m(\u001b[49m\n\u001b[32m   1508\u001b[39m \u001b[43m    \u001b[49m\u001b[43mmapper\u001b[49m\u001b[43m=\u001b[49m\u001b[43mcurried\u001b[49m\u001b[43m,\u001b[49m\u001b[43m \u001b[49m\u001b[43mna_action\u001b[49m\u001b[43m=\u001b[49m\u001b[43maction\u001b[49m\u001b[43m,\u001b[49m\u001b[43m \u001b[49m\u001b[43mconvert\u001b[49m\u001b[43m=\u001b[49m\u001b[38;5;28;43mself\u001b[39;49m\u001b[43m.\u001b[49m\u001b[43mconvert_dtype\u001b[49m\n\u001b[32m   1509\u001b[39m \u001b[43m\u001b[49m\u001b[43m)\u001b[49m\n\u001b[32m   1511\u001b[39m \u001b[38;5;28;01mif\u001b[39;00m \u001b[38;5;28mlen\u001b[39m(mapped) \u001b[38;5;129;01mand\u001b[39;00m \u001b[38;5;28misinstance\u001b[39m(mapped[\u001b[32m0\u001b[39m], ABCSeries):\n\u001b[32m   1512\u001b[39m     \u001b[38;5;66;03m# GH#43986 Need to do list(mapped) in order to get treated as nested\u001b[39;00m\n\u001b[32m   1513\u001b[39m     \u001b[38;5;66;03m#  See also GH#25959 regarding EA support\u001b[39;00m\n\u001b[32m   1514\u001b[39m     \u001b[38;5;28;01mreturn\u001b[39;00m obj._constructor_expanddim(\u001b[38;5;28mlist\u001b[39m(mapped), index=obj.index)\n",
      "\u001b[36mFile \u001b[39m\u001b[32md:\\Pruebas IA\\TFM\\.venv\\Lib\\site-packages\\pandas\\core\\base.py:921\u001b[39m, in \u001b[36mIndexOpsMixin._map_values\u001b[39m\u001b[34m(self, mapper, na_action, convert)\u001b[39m\n\u001b[32m    918\u001b[39m \u001b[38;5;28;01mif\u001b[39;00m \u001b[38;5;28misinstance\u001b[39m(arr, ExtensionArray):\n\u001b[32m    919\u001b[39m     \u001b[38;5;28;01mreturn\u001b[39;00m arr.map(mapper, na_action=na_action)\n\u001b[32m--> \u001b[39m\u001b[32m921\u001b[39m \u001b[38;5;28;01mreturn\u001b[39;00m \u001b[43malgorithms\u001b[49m\u001b[43m.\u001b[49m\u001b[43mmap_array\u001b[49m\u001b[43m(\u001b[49m\u001b[43marr\u001b[49m\u001b[43m,\u001b[49m\u001b[43m \u001b[49m\u001b[43mmapper\u001b[49m\u001b[43m,\u001b[49m\u001b[43m \u001b[49m\u001b[43mna_action\u001b[49m\u001b[43m=\u001b[49m\u001b[43mna_action\u001b[49m\u001b[43m,\u001b[49m\u001b[43m \u001b[49m\u001b[43mconvert\u001b[49m\u001b[43m=\u001b[49m\u001b[43mconvert\u001b[49m\u001b[43m)\u001b[49m\n",
      "\u001b[36mFile \u001b[39m\u001b[32md:\\Pruebas IA\\TFM\\.venv\\Lib\\site-packages\\pandas\\core\\algorithms.py:1743\u001b[39m, in \u001b[36mmap_array\u001b[39m\u001b[34m(arr, mapper, na_action, convert)\u001b[39m\n\u001b[32m   1741\u001b[39m values = arr.astype(\u001b[38;5;28mobject\u001b[39m, copy=\u001b[38;5;28;01mFalse\u001b[39;00m)\n\u001b[32m   1742\u001b[39m \u001b[38;5;28;01mif\u001b[39;00m na_action \u001b[38;5;129;01mis\u001b[39;00m \u001b[38;5;28;01mNone\u001b[39;00m:\n\u001b[32m-> \u001b[39m\u001b[32m1743\u001b[39m     \u001b[38;5;28;01mreturn\u001b[39;00m \u001b[43mlib\u001b[49m\u001b[43m.\u001b[49m\u001b[43mmap_infer\u001b[49m\u001b[43m(\u001b[49m\u001b[43mvalues\u001b[49m\u001b[43m,\u001b[49m\u001b[43m \u001b[49m\u001b[43mmapper\u001b[49m\u001b[43m,\u001b[49m\u001b[43m \u001b[49m\u001b[43mconvert\u001b[49m\u001b[43m=\u001b[49m\u001b[43mconvert\u001b[49m\u001b[43m)\u001b[49m\n\u001b[32m   1744\u001b[39m \u001b[38;5;28;01melse\u001b[39;00m:\n\u001b[32m   1745\u001b[39m     \u001b[38;5;28;01mreturn\u001b[39;00m lib.map_infer_mask(\n\u001b[32m   1746\u001b[39m         values, mapper, mask=isna(values).view(np.uint8), convert=convert\n\u001b[32m   1747\u001b[39m     )\n",
      "\u001b[36mFile \u001b[39m\u001b[32mlib.pyx:2972\u001b[39m, in \u001b[36mpandas._libs.lib.map_infer\u001b[39m\u001b[34m()\u001b[39m\n",
      "\u001b[36mCell\u001b[39m\u001b[36m \u001b[39m\u001b[32mIn[31]\u001b[39m\u001b[32m, line 1\u001b[39m, in \u001b[36m<lambda>\u001b[39m\u001b[34m(x)\u001b[39m\n\u001b[32m----> \u001b[39m\u001b[32m1\u001b[39m data[\u001b[33m'\u001b[39m\u001b[33mEtiqueta\u001b[39m\u001b[33m'\u001b[39m] = data[\u001b[33m'\u001b[39m\u001b[33mRESPUESTA ABIERTA\u001b[39m\u001b[33m'\u001b[39m].apply(\u001b[38;5;28;01mlambda\u001b[39;00m x: \u001b[43manalyzer\u001b[49m\u001b[43m.\u001b[49m\u001b[43mpredict\u001b[49m\u001b[43m(\u001b[49m\u001b[43mx\u001b[49m\u001b[43m)\u001b[49m.output)\n",
      "\u001b[36mFile \u001b[39m\u001b[32md:\\Pruebas IA\\TFM\\.venv\\Lib\\site-packages\\pysentimiento\\analyzer.py:343\u001b[39m, in \u001b[36mAnalyzerForSequenceClassification.predict\u001b[39m\u001b[34m(self, inputs, context, target, preprocess_context)\u001b[39m\n\u001b[32m    339\u001b[39m \u001b[38;5;28;01melif\u001b[39;00m context \u001b[38;5;129;01mand\u001b[39;00m \u001b[38;5;28mlen\u001b[39m(context) != \u001b[38;5;28mlen\u001b[39m(inputs):\n\u001b[32m    340\u001b[39m     \u001b[38;5;28;01mraise\u001b[39;00m \u001b[38;5;167;01mValueError\u001b[39;00m(\u001b[33m\"\u001b[39m\u001b[33mContext and inputs must have the same length\u001b[39m\u001b[33m\"\u001b[39m)\n\u001b[32m    342\u001b[39m data = {\n\u001b[32m--> \u001b[39m\u001b[32m343\u001b[39m     \u001b[33m\"\u001b[39m\u001b[33mtext\u001b[39m\u001b[33m\"\u001b[39m: \u001b[43m[\u001b[49m\n\u001b[32m    344\u001b[39m \u001b[43m        \u001b[49m\u001b[43mpreprocess_tweet\u001b[49m\u001b[43m(\u001b[49m\u001b[43msent\u001b[49m\u001b[43m,\u001b[49m\u001b[43m \u001b[49m\u001b[43m*\u001b[49m\u001b[43m*\u001b[49m\u001b[38;5;28;43mself\u001b[39;49m\u001b[43m.\u001b[49m\u001b[43mpreprocessing_args\u001b[49m\u001b[43m)\u001b[49m\u001b[43m \u001b[49m\u001b[38;5;28;43;01mfor\u001b[39;49;00m\u001b[43m \u001b[49m\u001b[43msent\u001b[49m\u001b[43m \u001b[49m\u001b[38;5;129;43;01min\u001b[39;49;00m\u001b[43m \u001b[49m\u001b[43minputs\u001b[49m\n\u001b[32m    345\u001b[39m \u001b[43m    \u001b[49m\u001b[43m]\u001b[49m\n\u001b[32m    346\u001b[39m }\n\u001b[32m    348\u001b[39m \u001b[38;5;28;01mif\u001b[39;00m context:\n\u001b[32m    349\u001b[39m     data[\u001b[33m\"\u001b[39m\u001b[33mcontext\u001b[39m\u001b[33m\"\u001b[39m] = [\n\u001b[32m    350\u001b[39m         preprocess_tweet(sent, **\u001b[38;5;28mself\u001b[39m.preprocessing_args)\n\u001b[32m    351\u001b[39m         \u001b[38;5;28;01mif\u001b[39;00m preprocess_context\n\u001b[32m    352\u001b[39m         \u001b[38;5;28;01melse\u001b[39;00m sent\n\u001b[32m    353\u001b[39m         \u001b[38;5;28;01mfor\u001b[39;00m sent \u001b[38;5;129;01min\u001b[39;00m context\n\u001b[32m    354\u001b[39m     ]\n",
      "\u001b[31mTypeError\u001b[39m: 'float' object is not iterable"
     ]
    }
   ],
   "source": [
    "data['Etiqueta'] = data['RESPUESTA ABIERTA'].apply(lambda x: analyzer.predict(x).output)"
   ]
  },
  {
   "cell_type": "code",
   "execution_count": null,
   "metadata": {},
   "outputs": [
    {
     "data": {
      "text/plain": [
       "<Axes: title={'center': 'sentimiento en la evaluación docente'}>"
      ]
     },
     "execution_count": 40,
     "metadata": {},
     "output_type": "execute_result"
    },
    {
     "data": {
      "image/png": "[encoded data removed]",
      "text/plain": [
       "<Figure size 640x480 with 1 Axes>"
      ]
     },
     "metadata": {},
     "output_type": "display_data"
    }
   ],
   "source": [
    "data['Etiqueta'].value_counts().plot(kind = 'pie', autopct = '%.2f', title=\"sentimiento en la evaluación docente\", ylabel= '')"
   ]
  },
  {
   "cell_type": "code",
   "execution_count": null,
   "metadata": {},
   "outputs": [],
   "source": [
    "data['Etiqueta_Emocion'] = data['RESPUESTA ABIERTA'].apply(lambda x: emotion_analyzer.predict(x).output)"
   ]
  },
  {
   "cell_type": "code",
   "execution_count": null,
   "metadata": {},
   "outputs": [
    {
     "data": {
      "text/plain": [
       "<Axes: xlabel='Etiqueta_Emocion'>"
      ]
     },
     "execution_count": 48,
     "metadata": {},
     "output_type": "execute_result"
    },
    {
     "data": {
      "image/png": "[encoded data removed]",
      "text/plain": [
       "<Figure size 640x480 with 1 Axes>"
      ]
     },
     "metadata": {},
     "output_type": "display_data"
    }
   ],
   "source": [
    "data['Etiqueta_Emocion'].value_counts().plot(kind = 'bar')"
   ]
  },
  {
   "cell_type": "markdown",
   "metadata": {},
   "source": [
    "# Generación de resultados tras preprocesado de datos"
   ]
  },
  {
   "cell_type": "code",
   "execution_count": null,
   "metadata": {},
   "outputs": [],
   "source": [
    "from pysentimiento.preprocessing import preprocess_tweet"
   ]
  },
  {
   "cell_type": "code",
   "execution_count": null,
   "metadata": {},
   "outputs": [
    {
     "data": {
      "text/plain": [
       "'la docente tizne un amplio conocimiento en el abordaje de salud sexual y recreativa'"
      ]
     },
     "execution_count": 51,
     "metadata": {},
     "output_type": "execute_result"
    }
   ],
   "source": [
    "preprocess_tweet(data['RESPUESTA ABIERTA'][0])"
   ]
  },
  {
   "cell_type": "code",
   "execution_count": null,
   "metadata": {},
   "outputs": [],
   "source": [
    "data['texto_preprocess'] = data['RESPUESTA ABIERTA'].apply(lambda x: preprocess_tweet(x))"
   ]
  },
  {
   "cell_type": "code",
   "execution_count": null,
   "metadata": {},
   "outputs": [],
   "source": [
    "data['Etiqueta_Emocion_pre'] = data['texto_preprocess'].apply(lambda x: emotion_analyzer.predict(x).output)"
   ]
  },
  {
   "cell_type": "code",
   "execution_count": null,
   "metadata": {},
   "outputs": [
    {
     "data": {
      "text/plain": [
       "<Axes: xlabel='Etiqueta_Emocion_pre'>"
      ]
     },
     "execution_count": 56,
     "metadata": {},
     "output_type": "execute_result"
    },
    {
     "data": {
      "image/png": "[encoded data removed]",
      "text/plain": [
       "<Figure size 640x480 with 1 Axes>"
      ]
     },
     "metadata": {},
     "output_type": "display_data"
    }
   ],
   "source": [
    "data['Etiqueta_Emocion_pre'].value_counts().plot(kind = 'bar')"
   ]
  }
 ],
 "metadata": {
  "kernelspec": {
   "display_name": ".venv",
   "language": "python",
   "name": "python3"
  },
  "language_info": {
   "codemirror_mode": {
    "name": "ipython",
    "version": 3
   },
   "file_extension": ".py",
   "mimetype": "text/x-python",
   "name": "python",
   "nbconvert_exporter": "python",
   "pygments_lexer": "ipython3",
   "version": "3.11.5"
  }
 },
 "nbformat": 4,
 "nbformat_minor": 2
}
