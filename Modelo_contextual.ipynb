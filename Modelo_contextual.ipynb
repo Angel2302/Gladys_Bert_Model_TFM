{
 "cells": [
  {
   "cell_type": "markdown",
   "id": "32784ac1",
   "metadata": {},
   "source": [
    "# Modelo de aplicación basado en bert para clasificación de textos"
   ]
  },
  {
   "cell_type": "markdown",
   "id": "2964a4a1",
   "metadata": {},
   "source": [
    "Dado el sesgo contextual evidenciado al momento de aplicar una primera categorización de las reseñas con la ayuda de robertuito, se procede con la recolección de clasificación de datos por aprte del equipo humano de la Universidad de Cundinamarca, con lo cual se establece una fuente de datos acorde a una muestra de registros con un intervalo de confianza del 95%, conholgura del 5% y la aplicación de clasificación a ciegas entre los participantes"
   ]
  },
  {
   "cell_type": "code",
   "execution_count": 1,
   "id": "a898d266",
   "metadata": {},
   "outputs": [],
   "source": [
    "import pandas as pd\n",
    "import numpy as np"
   ]
  },
  {
   "cell_type": "code",
   "execution_count": 2,
   "id": "cd72a6bc",
   "metadata": {},
   "outputs": [],
   "source": [
    "data_contextual = pd.read_excel(\"Data_contextual.xlsx\")"
   ]
  },
  {
   "cell_type": "code",
   "execution_count": 3,
   "id": "dec3b038",
   "metadata": {},
   "outputs": [
    {
     "data": {
      "text/html": [
       "<div>\n",
       "<style scoped>\n",
       "    .dataframe tbody tr th:only-of-type {\n",
       "        vertical-align: middle;\n",
       "    }\n",
       "\n",
       "    .dataframe tbody tr th {\n",
       "        vertical-align: top;\n",
       "    }\n",
       "\n",
       "    .dataframe thead th {\n",
       "        text-align: right;\n",
       "    }\n",
       "</style>\n",
       "<table border=\"1\" class=\"dataframe\">\n",
       "  <thead>\n",
       "    <tr style=\"text-align: right;\">\n",
       "      <th></th>\n",
       "      <th>Reseña</th>\n",
       "      <th>Pregunta</th>\n",
       "      <th>Categoria</th>\n",
       "      <th>Categoria con contexto</th>\n",
       "    </tr>\n",
       "  </thead>\n",
       "  <tbody>\n",
       "    <tr>\n",
       "      <th>0</th>\n",
       "      <td>nada</td>\n",
       "      <td>¿En cuales aspectos considera que debería mejo...</td>\n",
       "      <td>NEU</td>\n",
       "      <td>POS</td>\n",
       "    </tr>\n",
       "    <tr>\n",
       "      <th>1</th>\n",
       "      <td>buena profesora</td>\n",
       "      <td>¿Qué aspectos positivos destaca el profesor?</td>\n",
       "      <td>POS</td>\n",
       "      <td>POS</td>\n",
       "    </tr>\n",
       "    <tr>\n",
       "      <th>2</th>\n",
       "      <td>ninguno</td>\n",
       "      <td>¿En cuales aspectos considera que debería mejo...</td>\n",
       "      <td>NEU</td>\n",
       "      <td>POS</td>\n",
       "    </tr>\n",
       "    <tr>\n",
       "      <th>3</th>\n",
       "      <td>ninguno</td>\n",
       "      <td>¿Qué aspectos positivos destaca el profesor?</td>\n",
       "      <td>NEU</td>\n",
       "      <td>NEG</td>\n",
       "    </tr>\n",
       "    <tr>\n",
       "      <th>4</th>\n",
       "      <td>en nada</td>\n",
       "      <td>¿En cuales aspectos considera que debería mejo...</td>\n",
       "      <td>NEU</td>\n",
       "      <td>POS</td>\n",
       "    </tr>\n",
       "    <tr>\n",
       "      <th>...</th>\n",
       "      <td>...</td>\n",
       "      <td>...</td>\n",
       "      <td>...</td>\n",
       "      <td>...</td>\n",
       "    </tr>\n",
       "    <tr>\n",
       "      <th>375</th>\n",
       "      <td>una docente que estaca por su orden y cumplimi...</td>\n",
       "      <td>¿Qué aspectos positivos destaca el profesor?</td>\n",
       "      <td>POS</td>\n",
       "      <td>POS</td>\n",
       "    </tr>\n",
       "    <tr>\n",
       "      <th>376</th>\n",
       "      <td>ninguno</td>\n",
       "      <td>¿En cuales aspectos considera que debería mejo...</td>\n",
       "      <td>NEU</td>\n",
       "      <td>POS</td>\n",
       "    </tr>\n",
       "    <tr>\n",
       "      <th>377</th>\n",
       "      <td>no</td>\n",
       "      <td>¿En cuales aspectos considera que debería mejo...</td>\n",
       "      <td>NEU</td>\n",
       "      <td>POS</td>\n",
       "    </tr>\n",
       "    <tr>\n",
       "      <th>378</th>\n",
       "      <td>orden _x000D_ dominio de tema _x000D_ manejo d...</td>\n",
       "      <td>¿En cuales aspectos considera que debería mejo...</td>\n",
       "      <td>POS</td>\n",
       "      <td>NEG</td>\n",
       "    </tr>\n",
       "    <tr>\n",
       "      <th>379</th>\n",
       "      <td>saber explicar y dar sus clase excelente</td>\n",
       "      <td>¿Qué aspectos positivos destaca el profesor?</td>\n",
       "      <td>POS</td>\n",
       "      <td>POS</td>\n",
       "    </tr>\n",
       "  </tbody>\n",
       "</table>\n",
       "<p>380 rows × 4 columns</p>\n",
       "</div>"
      ],
      "text/plain": [
       "                                                Reseña  \\\n",
       "0                                                 nada   \n",
       "1                                      buena profesora   \n",
       "2                                              ninguno   \n",
       "3                                              ninguno   \n",
       "4                                              en nada   \n",
       "..                                                 ...   \n",
       "375  una docente que estaca por su orden y cumplimi...   \n",
       "376                                            ninguno   \n",
       "377                                                 no   \n",
       "378  orden _x000D_ dominio de tema _x000D_ manejo d...   \n",
       "379           saber explicar y dar sus clase excelente   \n",
       "\n",
       "                                              Pregunta Categoria  \\\n",
       "0    ¿En cuales aspectos considera que debería mejo...       NEU   \n",
       "1         ¿Qué aspectos positivos destaca el profesor?       POS   \n",
       "2    ¿En cuales aspectos considera que debería mejo...       NEU   \n",
       "3         ¿Qué aspectos positivos destaca el profesor?       NEU   \n",
       "4    ¿En cuales aspectos considera que debería mejo...       NEU   \n",
       "..                                                 ...       ...   \n",
       "375       ¿Qué aspectos positivos destaca el profesor?       POS   \n",
       "376  ¿En cuales aspectos considera que debería mejo...       NEU   \n",
       "377  ¿En cuales aspectos considera que debería mejo...       NEU   \n",
       "378  ¿En cuales aspectos considera que debería mejo...       POS   \n",
       "379       ¿Qué aspectos positivos destaca el profesor?       POS   \n",
       "\n",
       "    Categoria con contexto  \n",
       "0                      POS  \n",
       "1                      POS  \n",
       "2                      POS  \n",
       "3                      NEG  \n",
       "4                      POS  \n",
       "..                     ...  \n",
       "375                    POS  \n",
       "376                    POS  \n",
       "377                    POS  \n",
       "378                    NEG  \n",
       "379                    POS  \n",
       "\n",
       "[380 rows x 4 columns]"
      ]
     },
     "execution_count": 3,
     "metadata": {},
     "output_type": "execute_result"
    }
   ],
   "source": [
    "data_contextual"
   ]
  },
  {
   "cell_type": "markdown",
   "id": "e425393b",
   "metadata": {},
   "source": [
    "## Encoding de los labels (etiquetas de categorización a reseña)"
   ]
  },
  {
   "cell_type": "code",
   "execution_count": 4,
   "id": "022bf08c",
   "metadata": {},
   "outputs": [],
   "source": [
    "label_map = {\n",
    "    \"NEG\":int(0),\n",
    "    \"NEU\":int(1),\n",
    "    \"POS\":int(2)\n",
    "}"
   ]
  },
  {
   "cell_type": "code",
   "execution_count": 5,
   "id": "39e91349",
   "metadata": {},
   "outputs": [],
   "source": [
    "data_contextual[\"labels\"] = data_contextual[\"Categoria con contexto\"].map(label_map)\n",
    "num_labels = len(label_map)"
   ]
  },
  {
   "cell_type": "code",
   "execution_count": 6,
   "id": "d48e468b",
   "metadata": {},
   "outputs": [
    {
     "data": {
      "text/html": [
       "<div>\n",
       "<style scoped>\n",
       "    .dataframe tbody tr th:only-of-type {\n",
       "        vertical-align: middle;\n",
       "    }\n",
       "\n",
       "    .dataframe tbody tr th {\n",
       "        vertical-align: top;\n",
       "    }\n",
       "\n",
       "    .dataframe thead th {\n",
       "        text-align: right;\n",
       "    }\n",
       "</style>\n",
       "<table border=\"1\" class=\"dataframe\">\n",
       "  <thead>\n",
       "    <tr style=\"text-align: right;\">\n",
       "      <th></th>\n",
       "      <th>Reseña</th>\n",
       "      <th>Pregunta</th>\n",
       "      <th>Categoria</th>\n",
       "      <th>Categoria con contexto</th>\n",
       "      <th>labels</th>\n",
       "    </tr>\n",
       "  </thead>\n",
       "  <tbody>\n",
       "    <tr>\n",
       "      <th>0</th>\n",
       "      <td>nada</td>\n",
       "      <td>¿En cuales aspectos considera que debería mejo...</td>\n",
       "      <td>NEU</td>\n",
       "      <td>POS</td>\n",
       "      <td>2.0</td>\n",
       "    </tr>\n",
       "    <tr>\n",
       "      <th>1</th>\n",
       "      <td>buena profesora</td>\n",
       "      <td>¿Qué aspectos positivos destaca el profesor?</td>\n",
       "      <td>POS</td>\n",
       "      <td>POS</td>\n",
       "      <td>2.0</td>\n",
       "    </tr>\n",
       "    <tr>\n",
       "      <th>2</th>\n",
       "      <td>ninguno</td>\n",
       "      <td>¿En cuales aspectos considera que debería mejo...</td>\n",
       "      <td>NEU</td>\n",
       "      <td>POS</td>\n",
       "      <td>2.0</td>\n",
       "    </tr>\n",
       "    <tr>\n",
       "      <th>3</th>\n",
       "      <td>ninguno</td>\n",
       "      <td>¿Qué aspectos positivos destaca el profesor?</td>\n",
       "      <td>NEU</td>\n",
       "      <td>NEG</td>\n",
       "      <td>0.0</td>\n",
       "    </tr>\n",
       "    <tr>\n",
       "      <th>4</th>\n",
       "      <td>en nada</td>\n",
       "      <td>¿En cuales aspectos considera que debería mejo...</td>\n",
       "      <td>NEU</td>\n",
       "      <td>POS</td>\n",
       "      <td>2.0</td>\n",
       "    </tr>\n",
       "    <tr>\n",
       "      <th>...</th>\n",
       "      <td>...</td>\n",
       "      <td>...</td>\n",
       "      <td>...</td>\n",
       "      <td>...</td>\n",
       "      <td>...</td>\n",
       "    </tr>\n",
       "    <tr>\n",
       "      <th>375</th>\n",
       "      <td>una docente que estaca por su orden y cumplimi...</td>\n",
       "      <td>¿Qué aspectos positivos destaca el profesor?</td>\n",
       "      <td>POS</td>\n",
       "      <td>POS</td>\n",
       "      <td>2.0</td>\n",
       "    </tr>\n",
       "    <tr>\n",
       "      <th>376</th>\n",
       "      <td>ninguno</td>\n",
       "      <td>¿En cuales aspectos considera que debería mejo...</td>\n",
       "      <td>NEU</td>\n",
       "      <td>POS</td>\n",
       "      <td>2.0</td>\n",
       "    </tr>\n",
       "    <tr>\n",
       "      <th>377</th>\n",
       "      <td>no</td>\n",
       "      <td>¿En cuales aspectos considera que debería mejo...</td>\n",
       "      <td>NEU</td>\n",
       "      <td>POS</td>\n",
       "      <td>2.0</td>\n",
       "    </tr>\n",
       "    <tr>\n",
       "      <th>378</th>\n",
       "      <td>orden _x000D_ dominio de tema _x000D_ manejo d...</td>\n",
       "      <td>¿En cuales aspectos considera que debería mejo...</td>\n",
       "      <td>POS</td>\n",
       "      <td>NEG</td>\n",
       "      <td>0.0</td>\n",
       "    </tr>\n",
       "    <tr>\n",
       "      <th>379</th>\n",
       "      <td>saber explicar y dar sus clase excelente</td>\n",
       "      <td>¿Qué aspectos positivos destaca el profesor?</td>\n",
       "      <td>POS</td>\n",
       "      <td>POS</td>\n",
       "      <td>2.0</td>\n",
       "    </tr>\n",
       "  </tbody>\n",
       "</table>\n",
       "<p>380 rows × 5 columns</p>\n",
       "</div>"
      ],
      "text/plain": [
       "                                                Reseña  \\\n",
       "0                                                 nada   \n",
       "1                                      buena profesora   \n",
       "2                                              ninguno   \n",
       "3                                              ninguno   \n",
       "4                                              en nada   \n",
       "..                                                 ...   \n",
       "375  una docente que estaca por su orden y cumplimi...   \n",
       "376                                            ninguno   \n",
       "377                                                 no   \n",
       "378  orden _x000D_ dominio de tema _x000D_ manejo d...   \n",
       "379           saber explicar y dar sus clase excelente   \n",
       "\n",
       "                                              Pregunta Categoria  \\\n",
       "0    ¿En cuales aspectos considera que debería mejo...       NEU   \n",
       "1         ¿Qué aspectos positivos destaca el profesor?       POS   \n",
       "2    ¿En cuales aspectos considera que debería mejo...       NEU   \n",
       "3         ¿Qué aspectos positivos destaca el profesor?       NEU   \n",
       "4    ¿En cuales aspectos considera que debería mejo...       NEU   \n",
       "..                                                 ...       ...   \n",
       "375       ¿Qué aspectos positivos destaca el profesor?       POS   \n",
       "376  ¿En cuales aspectos considera que debería mejo...       NEU   \n",
       "377  ¿En cuales aspectos considera que debería mejo...       NEU   \n",
       "378  ¿En cuales aspectos considera que debería mejo...       POS   \n",
       "379       ¿Qué aspectos positivos destaca el profesor?       POS   \n",
       "\n",
       "    Categoria con contexto  labels  \n",
       "0                      POS     2.0  \n",
       "1                      POS     2.0  \n",
       "2                      POS     2.0  \n",
       "3                      NEG     0.0  \n",
       "4                      POS     2.0  \n",
       "..                     ...     ...  \n",
       "375                    POS     2.0  \n",
       "376                    POS     2.0  \n",
       "377                    POS     2.0  \n",
       "378                    NEG     0.0  \n",
       "379                    POS     2.0  \n",
       "\n",
       "[380 rows x 5 columns]"
      ]
     },
     "execution_count": 6,
     "metadata": {},
     "output_type": "execute_result"
    }
   ],
   "source": [
    "data_contextual"
   ]
  },
  {
   "cell_type": "markdown",
   "id": "7fb05910",
   "metadata": {},
   "source": [
    "## Conversion del DataFrame a un Dataset de HuggingFaces"
   ]
  },
  {
   "cell_type": "code",
   "execution_count": 7,
   "id": "81bb3b63",
   "metadata": {},
   "outputs": [
    {
     "name": "stderr",
     "output_type": "stream",
     "text": [
      "d:\\Pruebas IA\\TFM\\.venv\\Lib\\site-packages\\tqdm\\auto.py:21: TqdmWarning: IProgress not found. Please update jupyter and ipywidgets. See https://ipywidgets.readthedocs.io/en/stable/user_install.html\n",
      "  from .autonotebook import tqdm as notebook_tqdm\n"
     ]
    }
   ],
   "source": [
    "from datasets import Dataset, DatasetDict"
   ]
  },
  {
   "cell_type": "code",
   "execution_count": 8,
   "id": "e213cfd0",
   "metadata": {},
   "outputs": [],
   "source": [
    "dataset_general = Dataset.from_pandas(data_contextual)"
   ]
  },
  {
   "cell_type": "code",
   "execution_count": 9,
   "id": "46133982",
   "metadata": {},
   "outputs": [
    {
     "name": "stdout",
     "output_type": "stream",
     "text": [
      "primeras 2 filas del dataset\n",
      "Dataset({\n",
      "    features: ['Reseña', 'Pregunta', 'Categoria', 'Categoria con contexto', 'labels'],\n",
      "    num_rows: 3\n",
      "})\n",
      "Columnas del dataset\n",
      "['Reseña', 'Pregunta', 'Categoria', 'Categoria con contexto', 'labels']\n"
     ]
    }
   ],
   "source": [
    "print(\"primeras 2 filas del dataset\")\n",
    "print(dataset_general.select(range(3)))\n",
    "print(\"Columnas del dataset\")\n",
    "print(dataset_general.column_names)"
   ]
  },
  {
   "cell_type": "markdown",
   "id": "6d3254d7",
   "metadata": {},
   "source": [
    "## Generación de train y test"
   ]
  },
  {
   "cell_type": "code",
   "execution_count": 10,
   "id": "6c6366e9",
   "metadata": {},
   "outputs": [],
   "source": [
    "data_contextual['labels'] = data_contextual['labels'].fillna(0).astype(int)"
   ]
  },
  {
   "cell_type": "code",
   "execution_count": 11,
   "id": "7f53c3db",
   "metadata": {},
   "outputs": [],
   "source": [
    "from sklearn.model_selection import train_test_split"
   ]
  },
  {
   "cell_type": "code",
   "execution_count": 12,
   "id": "9bf0a296",
   "metadata": {},
   "outputs": [],
   "source": [
    "train_df, eval_df = train_test_split(data_contextual, test_size=0.3, random_state=42, stratify=data_contextual['labels'])"
   ]
  },
  {
   "cell_type": "code",
   "execution_count": 13,
   "id": "b33fedaa",
   "metadata": {},
   "outputs": [],
   "source": [
    "dataset_train = Dataset.from_pandas(train_df)\n",
    "dataset_eval = Dataset.from_pandas(eval_df)"
   ]
  },
  {
   "cell_type": "markdown",
   "id": "951fc9ed",
   "metadata": {},
   "source": [
    "## Carga del tokenizador"
   ]
  },
  {
   "cell_type": "code",
   "execution_count": 14,
   "id": "5234c6be",
   "metadata": {},
   "outputs": [],
   "source": [
    "from transformers import AutoTokenizer, AutoModelForSequenceClassification, TrainingArguments, Trainer"
   ]
  },
  {
   "cell_type": "code",
   "execution_count": 15,
   "id": "180f71f5",
   "metadata": {},
   "outputs": [],
   "source": [
    "model_name = 'dccuchile/bert-base-spanish-wwm-cased'\n",
    "tokenizer = AutoTokenizer.from_pretrained(model_name)"
   ]
  },
  {
   "cell_type": "code",
   "execution_count": 16,
   "id": "b380411c",
   "metadata": {},
   "outputs": [],
   "source": [
    "MAX_LEN = 128"
   ]
  },
  {
   "cell_type": "markdown",
   "id": "2b0718f1",
   "metadata": {},
   "source": [
    "## Crear función de tokenización"
   ]
  },
  {
   "cell_type": "code",
   "execution_count": 17,
   "id": "1e69dbeb",
   "metadata": {},
   "outputs": [],
   "source": [
    "def tokenizar(ejemplos):\n",
    "    return tokenizer(ejemplos['Pregunta'], ejemplos['Reseña'], max_length=MAX_LEN, truncation=True, padding='max_length', return_tensors=\"pt\"\n",
    ")"
   ]
  },
  {
   "cell_type": "code",
   "execution_count": 18,
   "id": "cb26660e",
   "metadata": {},
   "outputs": [
    {
     "name": "stderr",
     "output_type": "stream",
     "text": [
      "Map: 100%|██████████| 266/266 [00:00<00:00, 6232.04 examples/s]\n"
     ]
    }
   ],
   "source": [
    "dataset_train_tokenizado = dataset_train.map(tokenizar, batched=True)"
   ]
  },
  {
   "cell_type": "code",
   "execution_count": 19,
   "id": "df77f6aa",
   "metadata": {},
   "outputs": [
    {
     "name": "stderr",
     "output_type": "stream",
     "text": [
      "Map: 100%|██████████| 114/114 [00:00<00:00, 7037.32 examples/s]\n"
     ]
    }
   ],
   "source": [
    "dataset_eval_tokenizado = dataset_eval.map(tokenizar, batched=True)"
   ]
  },
  {
   "cell_type": "code",
   "execution_count": 20,
   "id": "4d731cbc",
   "metadata": {},
   "outputs": [
    {
     "data": {
      "text/plain": [
       "['Reseña',\n",
       " 'Pregunta',\n",
       " 'Categoria',\n",
       " 'Categoria con contexto',\n",
       " 'labels',\n",
       " '__index_level_0__',\n",
       " 'input_ids',\n",
       " 'token_type_ids',\n",
       " 'attention_mask']"
      ]
     },
     "execution_count": 20,
     "metadata": {},
     "output_type": "execute_result"
    }
   ],
   "source": [
    "dataset_train_tokenizado.column_names"
   ]
  },
  {
   "cell_type": "code",
   "execution_count": 21,
   "id": "240af4ab",
   "metadata": {},
   "outputs": [],
   "source": [
    "dataset_train_tokenizado = dataset_train_tokenizado.remove_columns([\"Reseña\", \"Pregunta\", \"Categoria\", \"Categoria con contexto\", \"__index_level_0__\"])"
   ]
  },
  {
   "cell_type": "code",
   "execution_count": 22,
   "id": "ccaef3a6",
   "metadata": {},
   "outputs": [],
   "source": [
    "dataset_eval_tokenizado = dataset_eval_tokenizado.remove_columns([\"Reseña\", \"Pregunta\", \"Categoria\", \"Categoria con contexto\", \"__index_level_0__\"])"
   ]
  },
  {
   "cell_type": "code",
   "execution_count": 23,
   "id": "13212c5b",
   "metadata": {},
   "outputs": [
    {
     "name": "stdout",
     "output_type": "stream",
     "text": [
      "{'labels': 2, 'input_ids': [4, 1067, 1281, 4909, 12848, 10446, 1040, 5533, 1064, 5, 1079, 2233, 1008, 8509, 1058, 2667, 2803, 14987, 30934, 1062, 21046, 1047, 1477, 2415, 7122, 1058, 1108, 1456, 2667, 15423, 1486, 1008, 22945, 1912, 3894, 2125, 5, 1, 1, 1, 1, 1, 1, 1, 1, 1, 1, 1, 1, 1, 1, 1, 1, 1, 1, 1, 1, 1, 1, 1, 1, 1, 1, 1, 1, 1, 1, 1, 1, 1, 1, 1, 1, 1, 1, 1, 1, 1, 1, 1, 1, 1, 1, 1, 1, 1, 1, 1, 1, 1, 1, 1, 1, 1, 1, 1, 1, 1, 1, 1, 1, 1, 1, 1, 1, 1, 1, 1, 1, 1, 1, 1, 1, 1, 1, 1, 1, 1, 1, 1, 1, 1, 1, 1, 1, 1, 1, 1], 'token_type_ids': [0, 0, 0, 0, 0, 0, 0, 0, 0, 0, 1, 1, 1, 1, 1, 1, 1, 1, 1, 1, 1, 1, 1, 1, 1, 1, 1, 1, 1, 1, 1, 1, 1, 1, 1, 1, 1, 0, 0, 0, 0, 0, 0, 0, 0, 0, 0, 0, 0, 0, 0, 0, 0, 0, 0, 0, 0, 0, 0, 0, 0, 0, 0, 0, 0, 0, 0, 0, 0, 0, 0, 0, 0, 0, 0, 0, 0, 0, 0, 0, 0, 0, 0, 0, 0, 0, 0, 0, 0, 0, 0, 0, 0, 0, 0, 0, 0, 0, 0, 0, 0, 0, 0, 0, 0, 0, 0, 0, 0, 0, 0, 0, 0, 0, 0, 0, 0, 0, 0, 0, 0, 0, 0, 0, 0, 0, 0, 0], 'attention_mask': [1, 1, 1, 1, 1, 1, 1, 1, 1, 1, 1, 1, 1, 1, 1, 1, 1, 1, 1, 1, 1, 1, 1, 1, 1, 1, 1, 1, 1, 1, 1, 1, 1, 1, 1, 1, 1, 0, 0, 0, 0, 0, 0, 0, 0, 0, 0, 0, 0, 0, 0, 0, 0, 0, 0, 0, 0, 0, 0, 0, 0, 0, 0, 0, 0, 0, 0, 0, 0, 0, 0, 0, 0, 0, 0, 0, 0, 0, 0, 0, 0, 0, 0, 0, 0, 0, 0, 0, 0, 0, 0, 0, 0, 0, 0, 0, 0, 0, 0, 0, 0, 0, 0, 0, 0, 0, 0, 0, 0, 0, 0, 0, 0, 0, 0, 0, 0, 0, 0, 0, 0, 0, 0, 0, 0, 0, 0, 0]}\n"
     ]
    }
   ],
   "source": [
    "print(dataset_train_tokenizado[0])"
   ]
  },
  {
   "cell_type": "markdown",
   "id": "bc9f30af",
   "metadata": {},
   "source": [
    "## Carga del modelo "
   ]
  },
  {
   "cell_type": "code",
   "execution_count": 24,
   "id": "f91dbd63",
   "metadata": {},
   "outputs": [
    {
     "name": "stderr",
     "output_type": "stream",
     "text": [
      "Some weights of BertForSequenceClassification were not initialized from the model checkpoint at dccuchile/bert-base-spanish-wwm-cased and are newly initialized: ['bert.pooler.dense.bias', 'bert.pooler.dense.weight', 'classifier.bias', 'classifier.weight']\n",
      "You should probably TRAIN this model on a down-stream task to be able to use it for predictions and inference.\n"
     ]
    }
   ],
   "source": [
    "modelo = AutoModelForSequenceClassification.from_pretrained(model_name, num_labels = num_labels)"
   ]
  },
  {
   "cell_type": "markdown",
   "id": "c5de9006",
   "metadata": {},
   "source": [
    "## Configuración de los Training Arguments"
   ]
  },
  {
   "cell_type": "code",
   "execution_count": 25,
   "id": "d1c0a452",
   "metadata": {},
   "outputs": [],
   "source": [
    "training_arguments = TrainingArguments(\n",
    "    output_dir=\"./resultados_datasets\",\n",
    "    num_train_epochs= 25,\n",
    "    per_device_train_batch_size= 8,\n",
    "    per_device_eval_batch_size= 8,\n",
    "    warmup_steps=500,\n",
    "    weight_decay=0.01,\n",
    "    logging_dir=\"./logs\",\n",
    "    logging_steps=100,\n",
    "    eval_strategy=\"epoch\",\n",
    "    save_strategy=\"epoch\",\n",
    "    load_best_model_at_end=True,\n",
    "    metric_for_best_model=\"f1\"\n",
    ")"
   ]
  },
  {
   "cell_type": "markdown",
   "id": "700e9ede",
   "metadata": {},
   "source": [
    "## Definir metricas"
   ]
  },
  {
   "cell_type": "code",
   "execution_count": 26,
   "id": "59a9517c",
   "metadata": {},
   "outputs": [],
   "source": [
    "from sklearn.metrics import accuracy_score, precision_recall_fscore_support"
   ]
  },
  {
   "cell_type": "code",
   "execution_count": 27,
   "id": "01def761",
   "metadata": {},
   "outputs": [],
   "source": [
    "def metricas(p):\n",
    "    predicciones = np.argmax(p.predictions, axis= 1)\n",
    "\n",
    "    labels = p.label_ids\n",
    "\n",
    "    precision, recall, f1, _ = precision_recall_fscore_support(labels, predicciones, average='weighted')\n",
    "    accuracy = accuracy_score(labels, predicciones)\n",
    "\n",
    "    return {\n",
    "        'accuracy': accuracy,\n",
    "        'f1': f1,\n",
    "        'recall': recall,\n",
    "        'precision': precision\n",
    "    }\n",
    "\n"
   ]
  },
  {
   "cell_type": "markdown",
   "id": "91444591",
   "metadata": {},
   "source": [
    "## Inicializar el trainer"
   ]
  },
  {
   "cell_type": "code",
   "execution_count": 28,
   "id": "be7fbe25",
   "metadata": {},
   "outputs": [
    {
     "name": "stderr",
     "output_type": "stream",
     "text": [
      "C:\\Users\\ASANGEL\\AppData\\Local\\Temp\\ipykernel_6240\\4124256841.py:1: FutureWarning: `tokenizer` is deprecated and will be removed in version 5.0.0 for `Trainer.__init__`. Use `processing_class` instead.\n",
      "  trainer = Trainer(\n"
     ]
    }
   ],
   "source": [
    "trainer = Trainer(\n",
    "    model=modelo,\n",
    "    args=training_arguments,\n",
    "    train_dataset= dataset_train_tokenizado,\n",
    "    eval_dataset= dataset_eval_tokenizado,\n",
    "    tokenizer = tokenizer,\n",
    "    compute_metrics=metricas\n",
    ")"
   ]
  },
  {
   "cell_type": "markdown",
   "id": "0f424894",
   "metadata": {},
   "source": [
    "## Entrenar modelo"
   ]
  },
  {
   "cell_type": "code",
   "execution_count": 29,
   "id": "ae694207",
   "metadata": {},
   "outputs": [
    {
     "name": "stderr",
     "output_type": "stream",
     "text": [
      "d:\\Pruebas IA\\TFM\\.venv\\Lib\\site-packages\\torch\\utils\\data\\dataloader.py:665: UserWarning: 'pin_memory' argument is set as true but no accelerator is found, then device pinned memory won't be used.\n",
      "  warnings.warn(warn_msg)\n"
     ]
    },
    {
     "data": {
      "text/html": [
       "\n",
       "    <div>\n",
       "      \n",
       "      <progress value='850' max='850' style='width:300px; height:20px; vertical-align: middle;'></progress>\n",
       "      [850/850 38:28, Epoch 25/25]\n",
       "    </div>\n",
       "    <table border=\"1\" class=\"dataframe\">\n",
       "  <thead>\n",
       " <tr style=\"text-align: left;\">\n",
       "      <th>Epoch</th>\n",
       "      <th>Training Loss</th>\n",
       "      <th>Validation Loss</th>\n",
       "      <th>Accuracy</th>\n",
       "      <th>F1</th>\n",
       "      <th>Recall</th>\n",
       "      <th>Precision</th>\n",
       "    </tr>\n",
       "  </thead>\n",
       "  <tbody>\n",
       "    <tr>\n",
       "      <td>1</td>\n",
       "      <td>No log</td>\n",
       "      <td>0.926998</td>\n",
       "      <td>0.614035</td>\n",
       "      <td>0.467201</td>\n",
       "      <td>0.614035</td>\n",
       "      <td>0.377039</td>\n",
       "    </tr>\n",
       "    <tr>\n",
       "      <td>2</td>\n",
       "      <td>No log</td>\n",
       "      <td>0.778677</td>\n",
       "      <td>0.640351</td>\n",
       "      <td>0.523635</td>\n",
       "      <td>0.640351</td>\n",
       "      <td>0.574960</td>\n",
       "    </tr>\n",
       "    <tr>\n",
       "      <td>3</td>\n",
       "      <td>0.881100</td>\n",
       "      <td>0.633096</td>\n",
       "      <td>0.736842</td>\n",
       "      <td>0.670332</td>\n",
       "      <td>0.736842</td>\n",
       "      <td>0.639889</td>\n",
       "    </tr>\n",
       "    <tr>\n",
       "      <td>4</td>\n",
       "      <td>0.881100</td>\n",
       "      <td>0.503354</td>\n",
       "      <td>0.807018</td>\n",
       "      <td>0.794367</td>\n",
       "      <td>0.807018</td>\n",
       "      <td>0.792713</td>\n",
       "    </tr>\n",
       "    <tr>\n",
       "      <td>5</td>\n",
       "      <td>0.881100</td>\n",
       "      <td>0.468803</td>\n",
       "      <td>0.850877</td>\n",
       "      <td>0.845776</td>\n",
       "      <td>0.850877</td>\n",
       "      <td>0.846381</td>\n",
       "    </tr>\n",
       "    <tr>\n",
       "      <td>6</td>\n",
       "      <td>0.423500</td>\n",
       "      <td>0.648891</td>\n",
       "      <td>0.807018</td>\n",
       "      <td>0.796385</td>\n",
       "      <td>0.807018</td>\n",
       "      <td>0.798389</td>\n",
       "    </tr>\n",
       "    <tr>\n",
       "      <td>7</td>\n",
       "      <td>0.423500</td>\n",
       "      <td>0.861009</td>\n",
       "      <td>0.780702</td>\n",
       "      <td>0.792534</td>\n",
       "      <td>0.780702</td>\n",
       "      <td>0.811356</td>\n",
       "    </tr>\n",
       "    <tr>\n",
       "      <td>8</td>\n",
       "      <td>0.423500</td>\n",
       "      <td>0.996203</td>\n",
       "      <td>0.736842</td>\n",
       "      <td>0.707587</td>\n",
       "      <td>0.736842</td>\n",
       "      <td>0.717705</td>\n",
       "    </tr>\n",
       "    <tr>\n",
       "      <td>9</td>\n",
       "      <td>0.220700</td>\n",
       "      <td>0.776371</td>\n",
       "      <td>0.789474</td>\n",
       "      <td>0.791124</td>\n",
       "      <td>0.789474</td>\n",
       "      <td>0.794301</td>\n",
       "    </tr>\n",
       "    <tr>\n",
       "      <td>10</td>\n",
       "      <td>0.220700</td>\n",
       "      <td>0.837239</td>\n",
       "      <td>0.824561</td>\n",
       "      <td>0.815625</td>\n",
       "      <td>0.824561</td>\n",
       "      <td>0.810656</td>\n",
       "    </tr>\n",
       "    <tr>\n",
       "      <td>11</td>\n",
       "      <td>0.220700</td>\n",
       "      <td>0.752158</td>\n",
       "      <td>0.824561</td>\n",
       "      <td>0.814355</td>\n",
       "      <td>0.824561</td>\n",
       "      <td>0.815154</td>\n",
       "    </tr>\n",
       "    <tr>\n",
       "      <td>12</td>\n",
       "      <td>0.200100</td>\n",
       "      <td>0.889480</td>\n",
       "      <td>0.798246</td>\n",
       "      <td>0.795322</td>\n",
       "      <td>0.798246</td>\n",
       "      <td>0.799383</td>\n",
       "    </tr>\n",
       "    <tr>\n",
       "      <td>13</td>\n",
       "      <td>0.200100</td>\n",
       "      <td>0.889499</td>\n",
       "      <td>0.789474</td>\n",
       "      <td>0.792639</td>\n",
       "      <td>0.789474</td>\n",
       "      <td>0.796887</td>\n",
       "    </tr>\n",
       "    <tr>\n",
       "      <td>14</td>\n",
       "      <td>0.200100</td>\n",
       "      <td>1.143412</td>\n",
       "      <td>0.789474</td>\n",
       "      <td>0.778237</td>\n",
       "      <td>0.789474</td>\n",
       "      <td>0.771983</td>\n",
       "    </tr>\n",
       "    <tr>\n",
       "      <td>15</td>\n",
       "      <td>0.187900</td>\n",
       "      <td>0.998081</td>\n",
       "      <td>0.815789</td>\n",
       "      <td>0.806655</td>\n",
       "      <td>0.815789</td>\n",
       "      <td>0.803828</td>\n",
       "    </tr>\n",
       "    <tr>\n",
       "      <td>16</td>\n",
       "      <td>0.187900</td>\n",
       "      <td>1.078034</td>\n",
       "      <td>0.807018</td>\n",
       "      <td>0.792919</td>\n",
       "      <td>0.807018</td>\n",
       "      <td>0.787524</td>\n",
       "    </tr>\n",
       "    <tr>\n",
       "      <td>17</td>\n",
       "      <td>0.187900</td>\n",
       "      <td>0.783956</td>\n",
       "      <td>0.842105</td>\n",
       "      <td>0.829058</td>\n",
       "      <td>0.842105</td>\n",
       "      <td>0.829364</td>\n",
       "    </tr>\n",
       "    <tr>\n",
       "      <td>18</td>\n",
       "      <td>0.164700</td>\n",
       "      <td>0.890464</td>\n",
       "      <td>0.824561</td>\n",
       "      <td>0.818045</td>\n",
       "      <td>0.824561</td>\n",
       "      <td>0.815789</td>\n",
       "    </tr>\n",
       "    <tr>\n",
       "      <td>19</td>\n",
       "      <td>0.164700</td>\n",
       "      <td>0.918457</td>\n",
       "      <td>0.842105</td>\n",
       "      <td>0.828257</td>\n",
       "      <td>0.842105</td>\n",
       "      <td>0.826909</td>\n",
       "    </tr>\n",
       "    <tr>\n",
       "      <td>20</td>\n",
       "      <td>0.164700</td>\n",
       "      <td>0.888488</td>\n",
       "      <td>0.859649</td>\n",
       "      <td>0.852294</td>\n",
       "      <td>0.859649</td>\n",
       "      <td>0.851993</td>\n",
       "    </tr>\n",
       "    <tr>\n",
       "      <td>21</td>\n",
       "      <td>0.124900</td>\n",
       "      <td>0.863980</td>\n",
       "      <td>0.833333</td>\n",
       "      <td>0.820348</td>\n",
       "      <td>0.833333</td>\n",
       "      <td>0.820716</td>\n",
       "    </tr>\n",
       "    <tr>\n",
       "      <td>22</td>\n",
       "      <td>0.124900</td>\n",
       "      <td>0.882035</td>\n",
       "      <td>0.833333</td>\n",
       "      <td>0.818827</td>\n",
       "      <td>0.833333</td>\n",
       "      <td>0.815778</td>\n",
       "    </tr>\n",
       "    <tr>\n",
       "      <td>23</td>\n",
       "      <td>0.124900</td>\n",
       "      <td>0.871288</td>\n",
       "      <td>0.842105</td>\n",
       "      <td>0.828257</td>\n",
       "      <td>0.842105</td>\n",
       "      <td>0.826909</td>\n",
       "    </tr>\n",
       "    <tr>\n",
       "      <td>24</td>\n",
       "      <td>0.093800</td>\n",
       "      <td>0.878915</td>\n",
       "      <td>0.850877</td>\n",
       "      <td>0.840942</td>\n",
       "      <td>0.850877</td>\n",
       "      <td>0.841075</td>\n",
       "    </tr>\n",
       "    <tr>\n",
       "      <td>25</td>\n",
       "      <td>0.093800</td>\n",
       "      <td>0.872835</td>\n",
       "      <td>0.859649</td>\n",
       "      <td>0.852294</td>\n",
       "      <td>0.859649</td>\n",
       "      <td>0.851993</td>\n",
       "    </tr>\n",
       "  </tbody>\n",
       "</table><p>"
      ],
      "text/plain": [
       "<IPython.core.display.HTML object>"
      ]
     },
     "metadata": {},
     "output_type": "display_data"
    },
    {
     "name": "stderr",
     "output_type": "stream",
     "text": [
      "d:\\Pruebas IA\\TFM\\.venv\\Lib\\site-packages\\sklearn\\metrics\\_classification.py:1565: UndefinedMetricWarning: Precision is ill-defined and being set to 0.0 in labels with no predicted samples. Use `zero_division` parameter to control this behavior.\n",
      "  _warn_prf(average, modifier, f\"{metric.capitalize()} is\", len(result))\n",
      "d:\\Pruebas IA\\TFM\\.venv\\Lib\\site-packages\\torch\\utils\\data\\dataloader.py:665: UserWarning: 'pin_memory' argument is set as true but no accelerator is found, then device pinned memory won't be used.\n",
      "  warnings.warn(warn_msg)\n",
      "d:\\Pruebas IA\\TFM\\.venv\\Lib\\site-packages\\sklearn\\metrics\\_classification.py:1565: UndefinedMetricWarning: Precision is ill-defined and being set to 0.0 in labels with no predicted samples. Use `zero_division` parameter to control this behavior.\n",
      "  _warn_prf(average, modifier, f\"{metric.capitalize()} is\", len(result))\n",
      "d:\\Pruebas IA\\TFM\\.venv\\Lib\\site-packages\\torch\\utils\\data\\dataloader.py:665: UserWarning: 'pin_memory' argument is set as true but no accelerator is found, then device pinned memory won't be used.\n",
      "  warnings.warn(warn_msg)\n",
      "d:\\Pruebas IA\\TFM\\.venv\\Lib\\site-packages\\sklearn\\metrics\\_classification.py:1565: UndefinedMetricWarning: Precision is ill-defined and being set to 0.0 in labels with no predicted samples. Use `zero_division` parameter to control this behavior.\n",
      "  _warn_prf(average, modifier, f\"{metric.capitalize()} is\", len(result))\n",
      "d:\\Pruebas IA\\TFM\\.venv\\Lib\\site-packages\\torch\\utils\\data\\dataloader.py:665: UserWarning: 'pin_memory' argument is set as true but no accelerator is found, then device pinned memory won't be used.\n",
      "  warnings.warn(warn_msg)\n",
      "d:\\Pruebas IA\\TFM\\.venv\\Lib\\site-packages\\torch\\utils\\data\\dataloader.py:665: UserWarning: 'pin_memory' argument is set as true but no accelerator is found, then device pinned memory won't be used.\n",
      "  warnings.warn(warn_msg)\n",
      "d:\\Pruebas IA\\TFM\\.venv\\Lib\\site-packages\\torch\\utils\\data\\dataloader.py:665: UserWarning: 'pin_memory' argument is set as true but no accelerator is found, then device pinned memory won't be used.\n",
      "  warnings.warn(warn_msg)\n",
      "d:\\Pruebas IA\\TFM\\.venv\\Lib\\site-packages\\torch\\utils\\data\\dataloader.py:665: UserWarning: 'pin_memory' argument is set as true but no accelerator is found, then device pinned memory won't be used.\n",
      "  warnings.warn(warn_msg)\n",
      "d:\\Pruebas IA\\TFM\\.venv\\Lib\\site-packages\\torch\\utils\\data\\dataloader.py:665: UserWarning: 'pin_memory' argument is set as true but no accelerator is found, then device pinned memory won't be used.\n",
      "  warnings.warn(warn_msg)\n",
      "d:\\Pruebas IA\\TFM\\.venv\\Lib\\site-packages\\torch\\utils\\data\\dataloader.py:665: UserWarning: 'pin_memory' argument is set as true but no accelerator is found, then device pinned memory won't be used.\n",
      "  warnings.warn(warn_msg)\n",
      "d:\\Pruebas IA\\TFM\\.venv\\Lib\\site-packages\\torch\\utils\\data\\dataloader.py:665: UserWarning: 'pin_memory' argument is set as true but no accelerator is found, then device pinned memory won't be used.\n",
      "  warnings.warn(warn_msg)\n",
      "d:\\Pruebas IA\\TFM\\.venv\\Lib\\site-packages\\torch\\utils\\data\\dataloader.py:665: UserWarning: 'pin_memory' argument is set as true but no accelerator is found, then device pinned memory won't be used.\n",
      "  warnings.warn(warn_msg)\n",
      "d:\\Pruebas IA\\TFM\\.venv\\Lib\\site-packages\\torch\\utils\\data\\dataloader.py:665: UserWarning: 'pin_memory' argument is set as true but no accelerator is found, then device pinned memory won't be used.\n",
      "  warnings.warn(warn_msg)\n",
      "d:\\Pruebas IA\\TFM\\.venv\\Lib\\site-packages\\torch\\utils\\data\\dataloader.py:665: UserWarning: 'pin_memory' argument is set as true but no accelerator is found, then device pinned memory won't be used.\n",
      "  warnings.warn(warn_msg)\n",
      "d:\\Pruebas IA\\TFM\\.venv\\Lib\\site-packages\\torch\\utils\\data\\dataloader.py:665: UserWarning: 'pin_memory' argument is set as true but no accelerator is found, then device pinned memory won't be used.\n",
      "  warnings.warn(warn_msg)\n",
      "d:\\Pruebas IA\\TFM\\.venv\\Lib\\site-packages\\torch\\utils\\data\\dataloader.py:665: UserWarning: 'pin_memory' argument is set as true but no accelerator is found, then device pinned memory won't be used.\n",
      "  warnings.warn(warn_msg)\n",
      "d:\\Pruebas IA\\TFM\\.venv\\Lib\\site-packages\\torch\\utils\\data\\dataloader.py:665: UserWarning: 'pin_memory' argument is set as true but no accelerator is found, then device pinned memory won't be used.\n",
      "  warnings.warn(warn_msg)\n",
      "d:\\Pruebas IA\\TFM\\.venv\\Lib\\site-packages\\torch\\utils\\data\\dataloader.py:665: UserWarning: 'pin_memory' argument is set as true but no accelerator is found, then device pinned memory won't be used.\n",
      "  warnings.warn(warn_msg)\n",
      "d:\\Pruebas IA\\TFM\\.venv\\Lib\\site-packages\\torch\\utils\\data\\dataloader.py:665: UserWarning: 'pin_memory' argument is set as true but no accelerator is found, then device pinned memory won't be used.\n",
      "  warnings.warn(warn_msg)\n",
      "d:\\Pruebas IA\\TFM\\.venv\\Lib\\site-packages\\torch\\utils\\data\\dataloader.py:665: UserWarning: 'pin_memory' argument is set as true but no accelerator is found, then device pinned memory won't be used.\n",
      "  warnings.warn(warn_msg)\n",
      "d:\\Pruebas IA\\TFM\\.venv\\Lib\\site-packages\\torch\\utils\\data\\dataloader.py:665: UserWarning: 'pin_memory' argument is set as true but no accelerator is found, then device pinned memory won't be used.\n",
      "  warnings.warn(warn_msg)\n",
      "d:\\Pruebas IA\\TFM\\.venv\\Lib\\site-packages\\torch\\utils\\data\\dataloader.py:665: UserWarning: 'pin_memory' argument is set as true but no accelerator is found, then device pinned memory won't be used.\n",
      "  warnings.warn(warn_msg)\n",
      "d:\\Pruebas IA\\TFM\\.venv\\Lib\\site-packages\\torch\\utils\\data\\dataloader.py:665: UserWarning: 'pin_memory' argument is set as true but no accelerator is found, then device pinned memory won't be used.\n",
      "  warnings.warn(warn_msg)\n",
      "d:\\Pruebas IA\\TFM\\.venv\\Lib\\site-packages\\torch\\utils\\data\\dataloader.py:665: UserWarning: 'pin_memory' argument is set as true but no accelerator is found, then device pinned memory won't be used.\n",
      "  warnings.warn(warn_msg)\n",
      "d:\\Pruebas IA\\TFM\\.venv\\Lib\\site-packages\\torch\\utils\\data\\dataloader.py:665: UserWarning: 'pin_memory' argument is set as true but no accelerator is found, then device pinned memory won't be used.\n",
      "  warnings.warn(warn_msg)\n",
      "d:\\Pruebas IA\\TFM\\.venv\\Lib\\site-packages\\torch\\utils\\data\\dataloader.py:665: UserWarning: 'pin_memory' argument is set as true but no accelerator is found, then device pinned memory won't be used.\n",
      "  warnings.warn(warn_msg)\n"
     ]
    },
    {
     "data": {
      "text/plain": [
       "TrainOutput(global_step=850, training_loss=0.2768799321791705, metrics={'train_runtime': 2311.529, 'train_samples_per_second': 2.877, 'train_steps_per_second': 0.368, 'total_flos': 437426056972800.0, 'train_loss': 0.2768799321791705, 'epoch': 25.0})"
      ]
     },
     "execution_count": 29,
     "metadata": {},
     "output_type": "execute_result"
    }
   ],
   "source": [
    "trainer.train()"
   ]
  },
  {
   "cell_type": "code",
   "execution_count": 30,
   "id": "f2ee1814",
   "metadata": {},
   "outputs": [
    {
     "name": "stderr",
     "output_type": "stream",
     "text": [
      "d:\\Pruebas IA\\TFM\\.venv\\Lib\\site-packages\\torch\\utils\\data\\dataloader.py:665: UserWarning: 'pin_memory' argument is set as true but no accelerator is found, then device pinned memory won't be used.\n",
      "  warnings.warn(warn_msg)\n"
     ]
    },
    {
     "data": {
      "text/html": [
       "\n",
       "    <div>\n",
       "      \n",
       "      <progress value='15' max='15' style='width:300px; height:20px; vertical-align: middle;'></progress>\n",
       "      [15/15 00:07]\n",
       "    </div>\n",
       "    "
      ],
      "text/plain": [
       "<IPython.core.display.HTML object>"
      ]
     },
     "metadata": {},
     "output_type": "display_data"
    },
    {
     "data": {
      "text/plain": [
       "{'eval_loss': 0.8884883522987366,\n",
       " 'eval_accuracy': 0.8596491228070176,\n",
       " 'eval_f1': 0.8522942502039181,\n",
       " 'eval_recall': 0.8596491228070176,\n",
       " 'eval_precision': 0.8519933396230653,\n",
       " 'eval_runtime': 8.2827,\n",
       " 'eval_samples_per_second': 13.764,\n",
       " 'eval_steps_per_second': 1.811,\n",
       " 'epoch': 25.0}"
      ]
     },
     "execution_count": 30,
     "metadata": {},
     "output_type": "execute_result"
    }
   ],
   "source": [
    "trainer.evaluate()"
   ]
  },
  {
   "cell_type": "code",
   "execution_count": 33,
   "id": "4d9cfb55",
   "metadata": {},
   "outputs": [],
   "source": [
    "output_dir_model = './Modelo_Contextual_BERT_Gladys_V1'"
   ]
  },
  {
   "cell_type": "code",
   "execution_count": 34,
   "id": "1735c909",
   "metadata": {},
   "outputs": [],
   "source": [
    "trainer.save_model(output_dir_model)"
   ]
  }
 ],
 "metadata": {
  "kernelspec": {
   "display_name": ".venv",
   "language": "python",
   "name": "python3"
  },
  "language_info": {
   "codemirror_mode": {
    "name": "ipython",
    "version": 3
   },
   "file_extension": ".py",
   "mimetype": "text/x-python",
   "name": "python",
   "nbconvert_exporter": "python",
   "pygments_lexer": "ipython3",
   "version": "3.11.5"
  }
 },
 "nbformat": 4,
 "nbformat_minor": 5
}
